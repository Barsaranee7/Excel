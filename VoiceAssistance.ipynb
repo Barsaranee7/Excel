{
 "cells": [
  {
   "cell_type": "code",
   "execution_count": 1,
   "id": "3f156a8e",
   "metadata": {},
   "outputs": [
    {
     "name": "stdout",
     "output_type": "stream",
     "text": [
      "Requirement already satisfied: SpeechRecognition in c:\\users\\user\\anaconda3\\lib\\site-packages (3.9.0)\n",
      "Requirement already satisfied: requests>=2.26.0 in c:\\users\\user\\anaconda3\\lib\\site-packages (from SpeechRecognition) (2.26.0)\n",
      "Requirement already satisfied: idna<4,>=2.5 in c:\\users\\user\\anaconda3\\lib\\site-packages (from requests>=2.26.0->SpeechRecognition) (3.2)\n",
      "Requirement already satisfied: charset-normalizer~=2.0.0 in c:\\users\\user\\anaconda3\\lib\\site-packages (from requests>=2.26.0->SpeechRecognition) (2.0.4)\n",
      "Requirement already satisfied: urllib3<1.27,>=1.21.1 in c:\\users\\user\\anaconda3\\lib\\site-packages (from requests>=2.26.0->SpeechRecognition) (1.26.7)\n",
      "Requirement already satisfied: certifi>=2017.4.17 in c:\\users\\user\\anaconda3\\lib\\site-packages (from requests>=2.26.0->SpeechRecognition) (2022.12.7)\n",
      "Note: you may need to restart the kernel to use updated packages.\n"
     ]
    }
   ],
   "source": [
    "pip install SpeechRecognition"
   ]
  },
  {
   "cell_type": "code",
   "execution_count": 2,
   "id": "0167e827",
   "metadata": {},
   "outputs": [
    {
     "name": "stdout",
     "output_type": "stream",
     "text": [
      "Requirement already satisfied: pyttsx3 in c:\\users\\user\\anaconda3\\lib\\site-packages (2.90)\n",
      "Requirement already satisfied: pywin32 in c:\\users\\user\\anaconda3\\lib\\site-packages (from pyttsx3) (228)\n",
      "Requirement already satisfied: comtypes in c:\\users\\user\\anaconda3\\lib\\site-packages (from pyttsx3) (1.1.10)\n",
      "Requirement already satisfied: pypiwin32 in c:\\users\\user\\anaconda3\\lib\\site-packages (from pyttsx3) (223)\n",
      "Note: you may need to restart the kernel to use updated packages.\n"
     ]
    }
   ],
   "source": [
    "pip install pyttsx3"
   ]
  },
  {
   "cell_type": "code",
   "execution_count": null,
   "id": "29e4eba4",
   "metadata": {},
   "outputs": [],
   "source": [
    "conda install -c anaconda pyaudio"
   ]
  },
  {
   "cell_type": "code",
   "execution_count": null,
   "id": "f7c0657c",
   "metadata": {},
   "outputs": [],
   "source": [
    "pip install pyaudio"
   ]
  },
  {
   "cell_type": "code",
   "execution_count": null,
   "id": "3d71e2fd",
   "metadata": {},
   "outputs": [],
   "source": [
    "pip install pywhatkit"
   ]
  },
  {
   "cell_type": "code",
   "execution_count": null,
   "id": "6ad6f336",
   "metadata": {},
   "outputs": [],
   "source": [
    "pip install wikipedia"
   ]
  },
  {
   "cell_type": "code",
   "execution_count": null,
   "id": "deb3d9de",
   "metadata": {},
   "outputs": [],
   "source": [
    "pip install pyjokes"
   ]
  },
  {
   "cell_type": "code",
   "execution_count": null,
   "id": "b8529c88",
   "metadata": {},
   "outputs": [],
   "source": [
    "pip install pycopy-webbrowser"
   ]
  },
  {
   "cell_type": "code",
   "execution_count": 12,
   "id": "45569f95",
   "metadata": {},
   "outputs": [],
   "source": [
    "import speech_recognition as sr\n",
    "import pywhatkit\n",
    "import pyttsx3\n",
    "import pyjokes\n",
    "import webbrowser\n",
    "import wikipedia\n",
    "import datetime\n",
    "import os\n",
    "import time\n"
   ]
  },
  {
   "cell_type": "code",
   "execution_count": null,
   "id": "4cee97f0",
   "metadata": {},
   "outputs": [],
   "source": []
  },
  {
   "cell_type": "code",
   "execution_count": null,
   "id": "d42d8da2",
   "metadata": {},
   "outputs": [
    {
     "name": "stdout",
     "output_type": "stream",
     "text": [
      "Acid is listening...... Please speak\n"
     ]
    }
   ],
   "source": [
    "listener=sr.Recognizer()\n",
    "acid=pyttsx3.init()\n",
    "voices=acid.getProperty('voices')\n",
    "acid.setProperty('voice',voices[0].id)\n",
    "\n",
    "def talk(text):\n",
    "    acid.say(text)\n",
    "    acid.runAndWait()\n",
    "def take_command():\n",
    "    try:\n",
    "        with sr.Microphone() as source:\n",
    "            print(\"Acid is listening...... Please speak\")\n",
    "            voice=listener.listen(source)\n",
    "            command=listener.recognize_google(voice)\n",
    "            command=command.lower()\n",
    "            if 'acid' in command:\n",
    "                command=command.replace('acid','')\n",
    "    except:\n",
    "        pass\n",
    "    return command\n",
    "\n",
    "def run_acid():\n",
    "    command=take_command()\n",
    "    if 'time' in command:\n",
    "        time=datetime.datetime.now().strftime('%I:%M:%P')\n",
    "        print(\"current time is\"+time)\n",
    "        talk(\"current time is\"+time)\n",
    "    elif 'play' in command:\n",
    "        song= command.replace('play','')\n",
    "        talk(\"playing\"+song)\n",
    "        pywhatkit.playonyt(song)\n",
    "        \n",
    "    elif 'tell me about' in command:\n",
    "        wiki=command.replace('tell me about','')\n",
    "        info=wikipedia.summary(wiki,2)\n",
    "        print(info)\n",
    "        talk(info)\n",
    "    else:\n",
    "        talk(\"sorry i did not understand, i can search it from goggle\")\n",
    "        pywhatkit.search(command)\n",
    "run_acid()\n",
    "    "
   ]
  },
  {
   "cell_type": "code",
   "execution_count": 14,
   "id": "06d8183f",
   "metadata": {},
   "outputs": [
    {
     "ename": "IndentationError",
     "evalue": "unindent does not match any outer indentation level (<tokenize>, line 26)",
     "output_type": "error",
     "traceback": [
      "\u001b[1;36m  File \u001b[1;32m\"<tokenize>\"\u001b[1;36m, line \u001b[1;32m26\u001b[0m\n\u001b[1;33m    if \"yor name\" in data1:\u001b[0m\n\u001b[1;37m    ^\u001b[0m\n\u001b[1;31mIndentationError\u001b[0m\u001b[1;31m:\u001b[0m unindent does not match any outer indentation level\n"
     ]
    }
   ],
   "source": [
    "def sptext():\n",
    "    recognizer=sr.Recognizer()\n",
    "    with sr.Microphone() as source:\n",
    "        print(\"Listening...\")\n",
    "        recognizer.adjust_for_ambient_noise(source)\n",
    "        audio=recognizer.listen(source)\n",
    "        try:\n",
    "            print(\"recognizing..\")\n",
    "            data=recognizer.recognize_google(audio)\n",
    "            return  data\n",
    "            \n",
    "        except sr.UnknownValueError:\n",
    "            print(\"Not understanding\")\n",
    "def speechtxt():\n",
    "    engine=pyttsx3.init()\n",
    "    voices=engine.getPropery('voices')\n",
    "    engine.setProperty('voices',voices[0].id)\n",
    "    rate=engine.getProperty('rate')\n",
    "    engine.setProperty('rate',150)\n",
    "    engine.say(x)\n",
    "    engine.runAndWait()\n",
    "if __name__=='__main__':\n",
    "    while True:\n",
    "        data1=spext().lower()\n",
    "        if \"yor name\" in data1:\n",
    "            name=\"my name is orange\"\n",
    "            speechtx(name)\n",
    "        elif \" old are you\" in data1:\n",
    "            age=\" Ask to barsha\"\n",
    "            speechtx(age)\n",
    "        elif \"time\" in dat1:\n",
    "            time=datetime.datetime.now().strftime(\"%I%M%P\")\n",
    "            speechtx(time)\n",
    "        elif \" Youtube \" in data1:\n",
    "             webbrowser.open(\"https://www.youtube.com/\")\n",
    "        elif \" web \" in data1:\n",
    "             webbrowser.open(\"https://www.wikipedia.org/\")\n",
    "        elif \" Joke \" in data1:\n",
    "            joke_1=pyjokes.get_joke(language=\"en\",category=\"neutral\")\n",
    "            speechtx(joke_1)\n",
    "        elif \"exit\" in data1:\n",
    "             speechtx('thank you\")\n",
    "             break\n",
    "                      \n",
    "    \n",
    "            \n",
    "        \n",
    "            \n",
    "        \n",
    "            \n",
    "            \n",
    "        \n",
    "            \n",
    "        \n",
    "        \n",
    "   # if spext().lower()=='hey partner':\n",
    "  \n",
    "    \n",
    "        \n",
    "        \n",
    "        #print('test')\n",
    "    #else:\n",
    "       # print('thanks')\n",
    "            \n",
    "    "
   ]
  },
  {
   "cell_type": "code",
   "execution_count": null,
   "id": "f5be96a8",
   "metadata": {},
   "outputs": [],
   "source": [
    "#play song\n",
    "elif 'play song'in data1:\n",
    "    add=\"list address here\"\n",
    "    listsong=os.listdir(add)\n",
    "    print(listsong)\n",
    "    os.startfile(os.path.join(add,listsong[1]))"
   ]
  },
  {
   "cell_type": "code",
   "execution_count": null,
   "id": "07a45aec",
   "metadata": {},
   "outputs": [],
   "source": [
    "if __name__=='__main__':\n",
    "    #hile True:\n",
    "   # if spext().lower()=='hey partner':\n",
    "        data1=spext().lower()\n",
    "    if \"yor name\" in data1:\n",
    "        name=\"my name is orange\"\n",
    "        speechtx(name)\n",
    "    elif \" old are you\" in data1:\n",
    "        age=\" Ask to barsha\"\n",
    "        speechtx(age)\n",
    "    elif \"time\" in dat1:\n",
    "        time=datetime.datetime.now().strftime(\"%I%M%P\")\n",
    "        speechtx(time)\n",
    "    elif \" Youtube \" in data1:\n",
    "        webbrowser.open(\"https://www.youtube.com/\")\n",
    "    elif \" web \" in data1:\n",
    "        webbrowser.open(\"https://www.wikipedia.org/\")\n",
    "    elif \" Joke \" in data1:\n",
    "        joke_1=pyjokes.get_joke(language=\"en\",category=\"neutral\")\n",
    "        speechtx(joke_1)\n",
    "    elif \"exit\" in data1:\n",
    "        speechtx('thank you\""
   ]
  }
 ],
 "metadata": {
  "kernelspec": {
   "display_name": "Python 3 (ipykernel)",
   "language": "python",
   "name": "python3"
  },
  "language_info": {
   "codemirror_mode": {
    "name": "ipython",
    "version": 3
   },
   "file_extension": ".py",
   "mimetype": "text/x-python",
   "name": "python",
   "nbconvert_exporter": "python",
   "pygments_lexer": "ipython3",
   "version": "3.9.7"
  }
 },
 "nbformat": 4,
 "nbformat_minor": 5
}
