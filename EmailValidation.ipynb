{
 "cells": [
  {
   "cell_type": "code",
   "execution_count": 2,
   "id": "3f584f05",
   "metadata": {},
   "outputs": [
    {
     "name": "stdout",
     "output_type": "stream",
     "text": [
      "Enter your email1barsha@gmial.com\n",
      "Please enter valid  email\n"
     ]
    }
   ],
   "source": [
    "email=input(\"Enter your email  \")\n",
    "if len(email)>=6:\n",
    "    if email[0].isalpha():\n",
    "        if (\"@\" in email) and (email.count(\"@\")==1):\n",
    "            if(email[-4]==\".\")^ (email[-3]==\".\"):\n",
    "                for i in email:\n",
    "                    if i==i.isspace():\n",
    "                        k=1\n",
    "                    elif i.isalpha():\n",
    "                        if i==i.upper():\n",
    "                            j=1\n",
    "                    elif i.isdigit():\n",
    "                        continue\n",
    "                    elif i==\"_\" or i==\".\" or i==\"@\":\n",
    "                        continue\n",
    "                    else:\n",
    "                        d==1            \n",
    "                if k==1 or j==1 or d==1:\n",
    "                    print(\"enter valid email\")\n",
    "               \n",
    "            else:\n",
    "                print(\"please enetr valid email\")\n",
    "               \n",
    "        else:\n",
    "            print(\"please ener valid email\")\n",
    "    else:\n",
    "        print(\"Please enter valid  email\")\n",
    "else:\n",
    "    print('wrong email 1')\n"
   ]
  },
  {
   "cell_type": "code",
   "execution_count": null,
   "id": "820756ae",
   "metadata": {},
   "outputs": [],
   "source": []
  }
 ],
 "metadata": {
  "kernelspec": {
   "display_name": "Python 3 (ipykernel)",
   "language": "python",
   "name": "python3"
  },
  "language_info": {
   "codemirror_mode": {
    "name": "ipython",
    "version": 3
   },
   "file_extension": ".py",
   "mimetype": "text/x-python",
   "name": "python",
   "nbconvert_exporter": "python",
   "pygments_lexer": "ipython3",
   "version": "3.9.7"
  }
 },
 "nbformat": 4,
 "nbformat_minor": 5
}
