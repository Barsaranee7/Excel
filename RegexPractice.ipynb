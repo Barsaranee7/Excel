{
 "cells": [
  {
   "cell_type": "markdown",
   "id": "348dd906",
   "metadata": {},
   "source": [
    "# Regular Expression"
   ]
  },
  {
   "cell_type": "markdown",
   "id": "da0f0ba3",
   "metadata": {},
   "source": [
    "A regular expression or RegEx is a special text string that helps to find patterns in data. A RegEx can be used to check if some pattern exists in a different data type. To use RegEx in python first we should import the RegEx module which is called re."
   ]
  },
  {
   "cell_type": "markdown",
   "id": "bcb7aa82",
   "metadata": {},
   "source": [
    "#method in remodule"
   ]
  },
  {
   "cell_type": "markdown",
   "id": "0f30260e",
   "metadata": {},
   "source": [
    "1--->re.match(): searches only in the beginning of the first line of the string and returns matched objects if found, else returns None.\n",
    "2---->re.search: Returns a match object if there is one anywhere in the string, including multiline strings.\n",
    "3--->re.findall: Returns a list containing all matches\n",
    "4---->re.split: Takes a string, splits it at the match points, returns a list\n",
    "5---->re.sub: Replaces one or many matches within a string"
   ]
  },
  {
   "cell_type": "code",
   "execution_count": null,
   "id": "98c87942",
   "metadata": {},
   "outputs": [],
   "source": [
    "re.I----re.ignorecase\n",
    "re.M----it give upto complete the sentence(multiline)\n",
    "re.S---it give upto all lines(DotAll)\n",
    "re.U---for different languages(unicode)\n",
    "re.L---its for envirmental variable which define language,country,chgaracter encoding ststus,it only handales one culture ata time it locste 8-bit.\n",
    "re.A---for ASCII character\n",
    "re.VARBOSE OR re.X-- it chages the regex syntax\n",
    "re.DEBUG---it get some information about compilation"
   ]
  },
  {
   "cell_type": "code",
   "execution_count": 2,
   "id": "8f9e2235",
   "metadata": {},
   "outputs": [],
   "source": [
    "import re"
   ]
  },
  {
   "cell_type": "code",
   "execution_count": 4,
   "id": "5289cfff",
   "metadata": {},
   "outputs": [
    {
     "name": "stdout",
     "output_type": "stream",
     "text": [
      "<re.Match object; span=(0, 15), match='I love to teach'>\n",
      "(0, 15)\n",
      "0 15\n",
      "I love to teach\n"
     ]
    }
   ],
   "source": [
    "import re\n",
    "\n",
    "txt = 'I love to teach python and javaScript'\n",
    "# It returns an object with span, and match\n",
    "match = re.match('I love to teach', txt)#re.I is a case ignore\n",
    "print(match)  # <re.Match object; span=(0, 15), match='I love to teach'>\n",
    "# We can get the starting and ending position of the match as tuple using span\n",
    "span = match.span()\n",
    "print(span)     # (0, 15)\n",
    "# Lets find the start and stop position from the span\n",
    "start, end = span\n",
    "print(start, end)  # 0, 15\n",
    "substring = txt[start:end]\n",
    "print(substring)       # I love to teach"
   ]
  },
  {
   "cell_type": "code",
   "execution_count": 5,
   "id": "c3a09111",
   "metadata": {},
   "outputs": [
    {
     "name": "stdout",
     "output_type": "stream",
     "text": [
      "<re.Match object; span=(100, 105), match='first'>\n",
      "(100, 105)\n",
      "100 105\n",
      "first\n"
     ]
    }
   ],
   "source": [
    "#Search\n",
    "import re\n",
    "\n",
    "txt = '''Python is the most beautiful language that a human being has ever created.\n",
    "I recommend python for a first programming language'''\n",
    "\n",
    "# It returns an object with span and match\n",
    "match = re.search('first', txt, re.I)\n",
    "print(match)  # <re.Match object; span=(100, 105), match='first'>\n",
    "# We can get the starting and ending position of the match as tuple using span\n",
    "span = match.span()\n",
    "print(span)     # (100, 105)\n",
    "# Lets find the start and stop position from the span\n",
    "start, end = span\n",
    "print(start, end)  # 100 105\n",
    "substring = txt[start:end]\n",
    "print(substring)       # first"
   ]
  },
  {
   "cell_type": "code",
   "execution_count": 6,
   "id": "54ed4527",
   "metadata": {},
   "outputs": [
    {
     "name": "stdout",
     "output_type": "stream",
     "text": [
      "['language', 'language']\n"
     ]
    }
   ],
   "source": [
    "#findall\n",
    "txt = '''Python is the most beautiful language that a human being has ever created.\n",
    "I recommend python for a first programming language'''\n",
    "\n",
    "# It return a list\n",
    "matches = re.findall('language', txt, re.I)\n",
    "print(matches)  # ['language', 'language']"
   ]
  },
  {
   "cell_type": "code",
   "execution_count": 7,
   "id": "64dd2ccf",
   "metadata": {},
   "outputs": [
    {
     "name": "stdout",
     "output_type": "stream",
     "text": [
      "['Python', 'python']\n",
      "['Python', 'python']\n"
     ]
    }
   ],
   "source": [
    "txt = '''Python is the most beautiful language that a human being has ever created.\n",
    "I recommend python for a first programming language'''\n",
    "\n",
    "matches = re.findall('Python|python', txt)\n",
    "print(matches)  # ['Python', 'python']\n",
    "\n",
    "#\n",
    "matches = re.findall('[Pp]ython', txt)\n",
    "print(matches)  # ['Python', 'python']\n"
   ]
  },
  {
   "cell_type": "code",
   "execution_count": 8,
   "id": "4f351671",
   "metadata": {},
   "outputs": [
    {
     "name": "stdout",
     "output_type": "stream",
     "text": [
      "JavaScript is the most beautiful language that a human being has ever created.\n",
      "I recommend JavaScript for a first programming language\n",
      "JavaScript is the most beautiful language that a human being has ever created.\n",
      "I recommend JavaScript for a first programming language\n"
     ]
    }
   ],
   "source": [
    "#replace\n",
    "txt = '''Python is the most beautiful language that a human being has ever created.\n",
    "I recommend python for a first programming language'''\n",
    "\n",
    "match_replaced = re.sub('Python|python', 'JavaScript', txt, re.I)\n",
    "print(match_replaced)  # JavaScript is the most beautiful language that a human being has ever created.\n",
    "# OR\n",
    "match_replaced = re.sub('[Pp]ython', 'JavaScript', txt, re.I)\n",
    "print(match_replaced)  # JavaScript is the most beautiful language that a human being has ever created."
   ]
  },
  {
   "cell_type": "code",
   "execution_count": 9,
   "id": "c0368375",
   "metadata": {},
   "outputs": [
    {
     "name": "stdout",
     "output_type": "stream",
     "text": [
      "I am teacher and  I love teaching. \n",
      "There is nothing as rewarding as educating and empowering people.\n",
      "I found teaching more interesting than any other jobs. \n",
      "Does this motivate you to be a teacher?\n"
     ]
    }
   ],
   "source": [
    "\n",
    "txt = '''%I a%m te%%a%%che%r% a%n%d %% I l%o%ve te%ach%ing. \n",
    "T%he%re i%s n%o%th%ing as r%ewarding a%s e%duc%at%i%ng a%n%d e%m%p%ow%er%ing p%e%o%ple.\n",
    "I fo%und te%a%ching m%ore i%n%t%er%%es%ting t%h%an any other %jobs. \n",
    "D%o%es thi%s m%ot%iv%a%te %y%o%u to b%e a t%e%a%cher?'''\n",
    "\n",
    "matches = re.sub('%', '', txt)\n",
    "print(matches)"
   ]
  },
  {
   "cell_type": "code",
   "execution_count": 11,
   "id": "40effacd",
   "metadata": {},
   "outputs": [
    {
     "name": "stdout",
     "output_type": "stream",
     "text": [
      "['I am teacher and  I love teaching.', 'There is nothing as rewarding as educating and empowering people.', 'I found teaching more interesting than any other jobs.', 'Does this motivate you to be a teacher?']\n"
     ]
    }
   ],
   "source": [
    "#spliting text using Regex split\n",
    "txt = '''I am teacher and  I love teaching.\n",
    "There is nothing as rewarding as educating and empowering people.\n",
    "I found teaching more interesting than any other jobs.\n",
    "Does this motivate you to be a teacher?'''\n",
    "print(re.split('\\n', txt)) # splitting using \\n - end of line symbol"
   ]
  },
  {
   "cell_type": "code",
   "execution_count": 16,
   "id": "18c70592",
   "metadata": {},
   "outputs": [
    {
     "name": "stdout",
     "output_type": "stream",
     "text": [
      "['apple']\n",
      "['Apple', 'apple']\n",
      "['Apple', 'apple']\n"
     ]
    }
   ],
   "source": [
    "#writting a regex patterns\n",
    "import re\n",
    "\n",
    "regex_pattern = r'apple'\n",
    "txt = 'Apple and banana are fruits. An old cliche says an apple a day a doctor way has been replaced by a banana a day keeps the doctor far far away. '\n",
    "matches = re.findall(regex_pattern, txt)\n",
    "print(matches)  # ['apple']\n",
    "\n",
    "# To make case insensitive adding flag '\n",
    "matches = re.findall(regex_pattern, txt, re.I)\n",
    "print(matches)  # ['Apple', 'apple']\n",
    "# or we can use a set of characters method\n",
    "regex_pattern = r'[Aa]pple'  # this mean the first letter could be Apple or apple\n",
    "matches = re.findall(regex_pattern, txt)\n",
    "print(matches)  # ['Apple', 'apple']\n"
   ]
  },
  {
   "cell_type": "code",
   "execution_count": 19,
   "id": "81a692c4",
   "metadata": {},
   "outputs": [
    {
     "name": "stdout",
     "output_type": "stream",
     "text": [
      "['6', '2', '0', '1', '9', '8', '2', '0', '2', '1']\n"
     ]
    }
   ],
   "source": [
    "#Escape character\n",
    "regex_pattern = r'\\d'  # d is a special character which means digits\n",
    "txt = 'This regular expression example was made on December 6,  2019 and revised on July 8, 2021'\n",
    "matches = re.findall(regex_pattern, txt)\n",
    "print(matches)  # ['6', '2', '0', '1', '9', '8', '2', '0', '2', '1'], this is not what we want"
   ]
  },
  {
   "cell_type": "code",
   "execution_count": 20,
   "id": "c7b1a66b",
   "metadata": {},
   "outputs": [
    {
     "name": "stdout",
     "output_type": "stream",
     "text": [
      "['6', '2019', '8', '2021']\n"
     ]
    }
   ],
   "source": [
    "#one or more times(+)\n",
    "regex_pattern = r'\\d+'  # d is a special character which means digits, + mean one or more times\n",
    "txt = 'This regular expression example was made on December 6,  2019 and revised on July 8, 2021'\n",
    "matches = re.findall(regex_pattern, txt)\n",
    "print(matches)  # ['6', '2019', '8', '2021'] - now, this is better!"
   ]
  },
  {
   "cell_type": "code",
   "execution_count": 4,
   "id": "ed88d207",
   "metadata": {},
   "outputs": [
    {
     "name": "stdout",
     "output_type": "stream",
     "text": [
      "['Ap', 'an', 'an', 'an', 'a ', 'ar']\n",
      "['Apple and banana are fruits']\n"
     ]
    }
   ],
   "source": [
    "#period(.)\n",
    "regex_pattern = r'[Aa].'  # this square bracket means a and . means any character except new line\n",
    "txt = '''Apple and banana are fruits'''\n",
    "matches = re.findall(regex_pattern, txt)\n",
    "print(matches)  # ['an', 'an', 'an', 'a ', 'ar']\n",
    "\n",
    "regex_pattern = r'[Aa].+'  # . any character, + any character one or more times \n",
    "matches = re.findall(regex_pattern, txt)\n",
    "print(matches)  # ['and banana are fruits']"
   ]
  },
  {
   "cell_type": "code",
   "execution_count": 7,
   "id": "881af8f7",
   "metadata": {},
   "outputs": [
    {
     "name": "stdout",
     "output_type": "stream",
     "text": [
      "['and banana are fruits']\n"
     ]
    }
   ],
   "source": [
    "#zero or more times(*)\n",
    "regex_pattern = r'[a].*'  # . any character, * any character zero or more times \n",
    "txt = '''Apple and banana are fruits'''\n",
    "matches = re.findall(regex_pattern, txt)\n",
    "print(matches)  # ['and banana are fruits']"
   ]
  },
  {
   "cell_type": "code",
   "execution_count": 26,
   "id": "95fbe931",
   "metadata": {},
   "outputs": [
    {
     "name": "stdout",
     "output_type": "stream",
     "text": [
      "['e-mail', 'email', 'Email', 'E-mail']\n"
     ]
    }
   ],
   "source": [
    "txt = '''I am not sure if there is a convention how to write the word e-mail.\n",
    "Some people write it as email others may write it as Email or E-mail.'''\n",
    "regex_pattern = r'[Ee]-?mail'  # ? means here that '-' is optional\n",
    "matches = re.findall(regex_pattern, txt)\n",
    "print(matches)  # ['e-mail', 'email', 'Email', 'E-mail']"
   ]
  },
  {
   "cell_type": "code",
   "execution_count": 28,
   "id": "8ac46d42",
   "metadata": {},
   "outputs": [
    {
     "name": "stdout",
     "output_type": "stream",
     "text": [
      "['2019', '2021']\n",
      "[]\n"
     ]
    }
   ],
   "source": [
    "#quantifier in regex\n",
    "txt = 'This regular expression example was made on December 6,  2019 and revised on July 8, 2021'\n",
    "regex_pattern = r'\\d{4}'  # exactly four times\n",
    "matches = re.findall(regex_pattern, txt)\n",
    "print(matches)  # ['2019', '2021']\n",
    "\n",
    "txt = 'This regular expression example was made on December 6,  2019 and revised on July 8, 2021'\n",
    "regex_pattern = r'\\d{1, 4}'   # 1 to 4\n",
    "matches = re.findall(regex_pattern, txt)\n",
    "print(matches)  # ['6', '2019', '8', '2021']"
   ]
  },
  {
   "cell_type": "code",
   "execution_count": 29,
   "id": "0cb24445",
   "metadata": {},
   "outputs": [
    {
     "name": "stdout",
     "output_type": "stream",
     "text": [
      "['This']\n"
     ]
    }
   ],
   "source": [
    "#cart(^)\n",
    "txt = 'This regular expression example was made on December 6,  2019 and revised on July 8, 2021'\n",
    "regex_pattern = r'^This'  # ^ means starts with\n",
    "matches = re.findall(regex_pattern, txt)\n",
    "print(matches)  # ['This']"
   ]
  },
  {
   "cell_type": "code",
   "execution_count": 1,
   "id": "3189e3e6",
   "metadata": {},
   "outputs": [
    {
     "name": "stdout",
     "output_type": "stream",
     "text": [
      "['I love teaching. If you do not love teaching what else can you love. I love Python if you do not love something which can give you all the capabilities to develop an application what else can you love.']\n"
     ]
    }
   ],
   "source": [
    "import re\n",
    "paragraph = 'I love teaching. If you do not love teaching what else can you love. I love Python if you do not love something which can give you all the capabilities to develop an application what else can you love.'\n",
    "regex=re.findall(paragraph,paragraph)\n",
    "print(regex)\n",
    "import regex\n"
   ]
  },
  {
   "cell_type": "code",
   "execution_count": 30,
   "id": "ed4f543e",
   "metadata": {},
   "outputs": [
    {
     "ename": "TypeError",
     "evalue": "cannot create 're.Pattern' instances",
     "output_type": "error",
     "traceback": [
      "\u001b[1;31m---------------------------------------------------------------------------\u001b[0m",
      "\u001b[1;31mTypeError\u001b[0m                                 Traceback (most recent call last)",
      "\u001b[1;32m~\\AppData\\Local\\Temp/ipykernel_3036/3697722922.py\u001b[0m in \u001b[0;36m<module>\u001b[1;34m\u001b[0m\n\u001b[0;32m     10\u001b[0m \u001b[1;31m#pattern=re.sub('','/s',points,re.I)\u001b[0m\u001b[1;33m\u001b[0m\u001b[1;33m\u001b[0m\u001b[0m\n\u001b[0;32m     11\u001b[0m \u001b[1;31m#print(pattern)\u001b[0m\u001b[1;33m\u001b[0m\u001b[1;33m\u001b[0m\u001b[0m\n\u001b[1;32m---> 12\u001b[1;33m \u001b[0mre\u001b[0m\u001b[1;33m.\u001b[0m\u001b[0mPattern\u001b[0m\u001b[1;33m(\u001b[0m\u001b[1;33m)\u001b[0m\u001b[1;33m\u001b[0m\u001b[1;33m\u001b[0m\u001b[0m\n\u001b[0m",
      "\u001b[1;31mTypeError\u001b[0m: cannot create 're.Pattern' instances"
     ]
    }
   ],
   "source": [
    "#The position of some particles on the horizontal x-axis are -12, -4, -3 and -1 in the negative direction, 0 at origin, 4 and 8 in the positive direction. Extract these numbers from this whole text and find the distance between the two furthest particles.\n",
    "points = ['-1', '2', '-4', '-3', '-1', '0', '4', '8']\n",
    "#sorted_points =  [-4, -3, -1, -1, 0, 2, 4,8]\n",
    "#pattern=re.compile('r\\d')\n",
    "#point=re.findall(pattern,points)\n",
    "#sorted_points=re.sub(str,int,points,re.DEBUG)\n",
    "#print(sorted_points)\n",
    "#distance = 8 -(-4) # 12\n",
    "#print(point)\n",
    "#pattern=re.sub('','/s',points,re.I)\n",
    "#print(pattern)\n",
    "re.Pattern()"
   ]
  },
  {
   "cell_type": "code",
   "execution_count": 4,
   "id": "f2a4045d",
   "metadata": {},
   "outputs": [
    {
     "data": {
      "text/plain": [
       "True"
      ]
     },
     "execution_count": 4,
     "metadata": {},
     "output_type": "execute_result"
    }
   ],
   "source": [
    "#Write a pattern which identifies if a string is a valid python variable\n",
    "import re\n",
    "pattern=re.compile('^\\d*')\n",
    "from keyword import iskeyword\n",
    "def is_valid_variable(name):\n",
    "    if re.match(pattern,name):\n",
    "        return False\n",
    "    else:\n",
    "        return True\n",
    "#is_valid_variable('first')\n",
    "is_valid_variable('1first')"
   ]
  },
  {
   "cell_type": "code",
   "execution_count": 14,
   "id": "5c589067",
   "metadata": {},
   "outputs": [
    {
     "name": "stdout",
     "output_type": "stream",
     "text": [
      "I am a teacher, and I love teaching. There is nothing as more rewarding as educating and empowering people. I found teaching more interesting than any other jobs. Does this motivate you to be a teacher?\n"
     ]
    }
   ],
   "source": [
    "#Clean the following text. After cleaning, count three most frequent words in the string.\n",
    "import re\n",
    "sentence = '''%I $am@% a %tea@cher%, &and& I lo%#ve %tea@ching%;. There $is nothing; &as& mo@re rewarding as educa@ting &and& @emp%o@wering peo@ple. ;I found tea@ching m%o@re interesting tha@n any other %jo@bs. %Do@es thi%s mo@tivate yo@u to be a tea@cher!?'''\n",
    "clean_text=re.sub('[!@#$%^&*;]',\"\",sentence,0,re.IGNORECASE)\n",
    "print(clean_text)\n"
   ]
  },
  {
   "cell_type": "code",
   "execution_count": null,
   "id": "216b2ece",
   "metadata": {},
   "outputs": [],
   "source": []
  },
  {
   "cell_type": "code",
   "execution_count": null,
   "id": "bc5a601a",
   "metadata": {},
   "outputs": [],
   "source": []
  },
  {
   "cell_type": "code",
   "execution_count": null,
   "id": "d7981ba0",
   "metadata": {},
   "outputs": [],
   "source": []
  },
  {
   "cell_type": "code",
   "execution_count": null,
   "id": "bb0566e4",
   "metadata": {},
   "outputs": [],
   "source": []
  },
  {
   "cell_type": "code",
   "execution_count": null,
   "id": "b53735df",
   "metadata": {},
   "outputs": [],
   "source": []
  },
  {
   "cell_type": "code",
   "execution_count": null,
   "id": "71fe7cd0",
   "metadata": {},
   "outputs": [],
   "source": []
  },
  {
   "cell_type": "code",
   "execution_count": null,
   "id": "58e22495",
   "metadata": {},
   "outputs": [],
   "source": []
  }
 ],
 "metadata": {
  "kernelspec": {
   "display_name": "Python 3 (ipykernel)",
   "language": "python",
   "name": "python3"
  },
  "language_info": {
   "codemirror_mode": {
    "name": "ipython",
    "version": 3
   },
   "file_extension": ".py",
   "mimetype": "text/x-python",
   "name": "python",
   "nbconvert_exporter": "python",
   "pygments_lexer": "ipython3",
   "version": "3.9.7"
  }
 },
 "nbformat": 4,
 "nbformat_minor": 5
}
