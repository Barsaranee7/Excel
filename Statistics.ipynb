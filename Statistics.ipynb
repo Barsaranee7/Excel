{
 "cells": [
  {
   "cell_type": "code",
   "execution_count": 1,
   "id": "5e9f8f89",
   "metadata": {},
   "outputs": [],
   "source": [
    "import pandas as pd\n",
    "import seaborn as sns\n",
    "import numpy as np\n",
    "import matplotlib.pyplot as plt\n",
    "%matplotlib inline"
   ]
  },
  {
   "cell_type": "code",
   "execution_count": 2,
   "id": "5f1e4e3b",
   "metadata": {},
   "outputs": [],
   "source": [
    "import statistics"
   ]
  },
  {
   "cell_type": "code",
   "execution_count": 3,
   "id": "278c5a72",
   "metadata": {},
   "outputs": [
    {
     "name": "stdout",
     "output_type": "stream",
     "text": [
      "   area   price\n",
      "0  2600  550000\n",
      "1  3000  565000\n",
      "2  3200  610000\n",
      "3  3600  680000\n",
      "4  4000  725000\n"
     ]
    }
   ],
   "source": [
    "##mean,median,mode\n",
    "df=pd.read_csv('C:\\\\Users\\\\USER\\\\AppData\\\\Roaming\\\\Microsoft\\\\Windows\\\\Network Shortcuts\\\\area.csv')\n",
    "print (df)"
   ]
  },
  {
   "cell_type": "code",
   "execution_count": 4,
   "id": "d0dd9b13",
   "metadata": {},
   "outputs": [
    {
     "data": {
      "text/html": [
       "<div>\n",
       "<style scoped>\n",
       "    .dataframe tbody tr th:only-of-type {\n",
       "        vertical-align: middle;\n",
       "    }\n",
       "\n",
       "    .dataframe tbody tr th {\n",
       "        vertical-align: top;\n",
       "    }\n",
       "\n",
       "    .dataframe thead th {\n",
       "        text-align: right;\n",
       "    }\n",
       "</style>\n",
       "<table border=\"1\" class=\"dataframe\">\n",
       "  <thead>\n",
       "    <tr style=\"text-align: right;\">\n",
       "      <th></th>\n",
       "      <th>area</th>\n",
       "      <th>price</th>\n",
       "    </tr>\n",
       "  </thead>\n",
       "  <tbody>\n",
       "    <tr>\n",
       "      <th>0</th>\n",
       "      <td>2600</td>\n",
       "      <td>550000</td>\n",
       "    </tr>\n",
       "    <tr>\n",
       "      <th>1</th>\n",
       "      <td>3000</td>\n",
       "      <td>565000</td>\n",
       "    </tr>\n",
       "    <tr>\n",
       "      <th>2</th>\n",
       "      <td>3200</td>\n",
       "      <td>610000</td>\n",
       "    </tr>\n",
       "    <tr>\n",
       "      <th>3</th>\n",
       "      <td>3600</td>\n",
       "      <td>680000</td>\n",
       "    </tr>\n",
       "    <tr>\n",
       "      <th>4</th>\n",
       "      <td>4000</td>\n",
       "      <td>725000</td>\n",
       "    </tr>\n",
       "  </tbody>\n",
       "</table>\n",
       "</div>"
      ],
      "text/plain": [
       "   area   price\n",
       "0  2600  550000\n",
       "1  3000  565000\n",
       "2  3200  610000\n",
       "3  3600  680000\n",
       "4  4000  725000"
      ]
     },
     "execution_count": 4,
     "metadata": {},
     "output_type": "execute_result"
    }
   ],
   "source": [
    "df.head()"
   ]
  },
  {
   "cell_type": "code",
   "execution_count": 5,
   "id": "518965f0",
   "metadata": {},
   "outputs": [
    {
     "data": {
      "text/plain": [
       "3280"
      ]
     },
     "execution_count": 5,
     "metadata": {},
     "output_type": "execute_result"
    }
   ],
   "source": [
    "statistics.mean(df['area'])\n"
   ]
  },
  {
   "cell_type": "code",
   "execution_count": 6,
   "id": "92f3bdc8",
   "metadata": {},
   "outputs": [
    {
     "data": {
      "text/plain": [
       "610000"
      ]
     },
     "execution_count": 6,
     "metadata": {},
     "output_type": "execute_result"
    }
   ],
   "source": [
    "statistics.median(df['price'])"
   ]
  },
  {
   "cell_type": "code",
   "execution_count": 7,
   "id": "39885dc9",
   "metadata": {},
   "outputs": [
    {
     "data": {
      "text/plain": [
       "610000.0"
      ]
     },
     "execution_count": 7,
     "metadata": {},
     "output_type": "execute_result"
    }
   ],
   "source": [
    "np.median(df['price'])"
   ]
  },
  {
   "cell_type": "code",
   "execution_count": 8,
   "id": "c98c6776",
   "metadata": {},
   "outputs": [
    {
     "data": {
      "text/plain": [
       "550000"
      ]
     },
     "execution_count": 8,
     "metadata": {},
     "output_type": "execute_result"
    }
   ],
   "source": [
    "statistics.mode(df['price'])"
   ]
  },
  {
   "cell_type": "code",
   "execution_count": 9,
   "id": "82bb0d63",
   "metadata": {},
   "outputs": [
    {
     "name": "stderr",
     "output_type": "stream",
     "text": [
      "C:\\Users\\USER\\anaconda3\\lib\\site-packages\\seaborn\\_decorators.py:36: FutureWarning: Pass the following variable as a keyword arg: x. From version 0.12, the only valid positional argument will be `data`, and passing other arguments without an explicit keyword will result in an error or misinterpretation.\n",
      "  warnings.warn(\n"
     ]
    },
    {
     "data": {
      "text/plain": [
       "<AxesSubplot:xlabel='price'>"
      ]
     },
     "execution_count": 9,
     "metadata": {},
     "output_type": "execute_result"
    },
    {
     "data": {
      "image/png": "[encoded data removed]",
      "text/plain": [
       "<Figure size 432x288 with 1 Axes>"
      ]
     },
     "metadata": {
      "needs_background": "light"
     },
     "output_type": "display_data"
    }
   ],
   "source": [
    "sns.boxplot(df['price'])"
   ]
  },
  {
   "cell_type": "code",
   "execution_count": 10,
   "id": "b6c9d28f",
   "metadata": {},
   "outputs": [
    {
     "data": {
      "text/plain": [
       "<AxesSubplot:xlabel='price', ylabel='Count'>"
      ]
     },
     "execution_count": 10,
     "metadata": {},
     "output_type": "execute_result"
    },
    {
     "data": {
      "image/png": "[encoded data removed]",
      "text/plain": [
       "<Figure size 432x288 with 1 Axes>"
      ]
     },
     "metadata": {
      "needs_background": "light"
     },
     "output_type": "display_data"
    }
   ],
   "source": [
    "sns.histplot(df['price'],kde=True)"
   ]
  },
  {
   "cell_type": "code",
   "execution_count": 11,
   "id": "5819200c",
   "metadata": {},
   "outputs": [
    {
     "name": "stdout",
     "output_type": "stream",
     "text": [
      "   no  pregnancies  BloodPressure  Glucose  SkinThickness  Insulin   BMI  Age  \\\n",
      "0   1            6             72      148             35        0  33.6   50   \n",
      "1   2            1             66       85             29        0  26.6   31   \n",
      "2   3            8             64      180              0        0  23.3   32   \n",
      "3   4            1             66       89             23       94  28.1   21   \n",
      "4   5            0             40      137             35      168  43.1   33   \n",
      "5   6            5             74      116              0        0  25.6   30   \n",
      "6   7            3             50       78             32       88  31.0   26   \n",
      "7   8           10              0      115              0        0  35.3   29   \n",
      "8   9            2             70      197             45      543  30.5   53   \n",
      "9  10            8             96      125              0        0   0.0   54   \n",
      "\n",
      "   Outcome  \n",
      "0        1  \n",
      "1        0  \n",
      "2        1  \n",
      "3        0  \n",
      "4        1  \n",
      "5        0  \n",
      "6        1  \n",
      "7        0  \n",
      "8        1  \n",
      "9        1  \n"
     ]
    }
   ],
   "source": [
    "df1=pd.read_csv('C:\\\\Users\\\\USER\\\\OneDrive\\\\Documents\\\\Book1.csv')\n",
    "print(df1)"
   ]
  },
  {
   "cell_type": "code",
   "execution_count": 12,
   "id": "2edccdd8",
   "metadata": {},
   "outputs": [
    {
     "data": {
      "text/plain": [
       "<AxesSubplot:xlabel='BloodPressure', ylabel='Count'>"
      ]
     },
     "execution_count": 12,
     "metadata": {},
     "output_type": "execute_result"
    },
    {
     "data": {
      "image/png": "[encoded data removed]",
      "text/plain": [
       "<Figure size 432x288 with 1 Axes>"
      ]
     },
     "metadata": {
      "needs_background": "light"
     },
     "output_type": "display_data"
    }
   ],
   "source": [
    "sns.histplot(df1['BloodPressure'],kde=True)"
   ]
  },
  {
   "cell_type": "code",
   "execution_count": 13,
   "id": "6263b59e",
   "metadata": {},
   "outputs": [
    {
     "name": "stderr",
     "output_type": "stream",
     "text": [
      "C:\\Users\\USER\\anaconda3\\lib\\site-packages\\seaborn\\_decorators.py:36: FutureWarning: Pass the following variable as a keyword arg: x. From version 0.12, the only valid positional argument will be `data`, and passing other arguments without an explicit keyword will result in an error or misinterpretation.\n",
      "  warnings.warn(\n"
     ]
    },
    {
     "data": {
      "text/plain": [
       "<AxesSubplot:xlabel='Insulin', ylabel='count'>"
      ]
     },
     "execution_count": 13,
     "metadata": {},
     "output_type": "execute_result"
    },
    {
     "data": {
      "image/png": "[encoded data removed]",
      "text/plain": [
       "<Figure size 432x288 with 1 Axes>"
      ]
     },
     "metadata": {
      "needs_background": "light"
     },
     "output_type": "display_data"
    }
   ],
   "source": [
    "sns.countplot(df1['Insulin'])"
   ]
  },
  {
   "cell_type": "code",
   "execution_count": 14,
   "id": "2f0b367a",
   "metadata": {},
   "outputs": [
    {
     "data": {
      "text/plain": [
       "array([565000., 680000.])"
      ]
     },
     "execution_count": 14,
     "metadata": {},
     "output_type": "execute_result"
    }
   ],
   "source": [
    "np.percentile(df['price'],[25,75])"
   ]
  },
  {
   "cell_type": "code",
   "execution_count": 15,
   "id": "327917ac",
   "metadata": {},
   "outputs": [],
   "source": [
    "import pandas as pd\n",
    "import seaborn as sns\n",
    "import numpy as np\n",
    "import matplotlib.pyplot as plt\n",
    "%matplotlib inline"
   ]
  },
  {
   "cell_type": "code",
   "execution_count": 16,
   "id": "366a5261",
   "metadata": {},
   "outputs": [],
   "source": [
    "#Define the dataset\n",
    "dataset=[11,10,12,14,13,15,102,12,14,17,107,18,13,12,108,12,11,14,15,10,14,13,15,10]"
   ]
  },
  {
   "cell_type": "code",
   "execution_count": 17,
   "id": "c8cdb494",
   "metadata": {},
   "outputs": [],
   "source": [
    "#outliers\n",
    "\n",
    "outliers=[]\n",
    "def detect_outliers(data):\n",
    "    threshold=3\n",
    "    mean=np.mean(data)\n",
    "    std=np.std(data)\n",
    "    \n",
    "    \n",
    "    for i in dataset:\n",
    "        z_score=(i-mean)/std\n",
    "        if np.abs(z_score)> threshold:\n",
    "            outliers.append(i)\n",
    "            return outliers\n",
    "            "
   ]
  },
  {
   "cell_type": "code",
   "execution_count": 18,
   "id": "72c38cd8",
   "metadata": {},
   "outputs": [
    {
     "data": {
      "text/plain": [
       "(array([21.,  0.,  0.,  0.,  0.,  0.,  0.,  0.,  0.,  3.]),\n",
       " array([ 10. ,  19.8,  29.6,  39.4,  49.2,  59. ,  68.8,  78.6,  88.4,\n",
       "         98.2, 108. ]),\n",
       " <BarContainer object of 10 artists>)"
      ]
     },
     "execution_count": 18,
     "metadata": {},
     "output_type": "execute_result"
    },
    {
     "data": {
      "image/png": "[encoded data removed]",
      "text/plain": [
       "<Figure size 432x288 with 1 Axes>"
      ]
     },
     "metadata": {
      "needs_background": "light"
     },
     "output_type": "display_data"
    }
   ],
   "source": [
    "plt.hist(dataset)"
   ]
  },
  {
   "cell_type": "code",
   "execution_count": 19,
   "id": "655ef501",
   "metadata": {},
   "outputs": [],
   "source": [
    "\n",
    "outliers=[]\n",
    "def detect_outliers(data):\n",
    "    threshold=3\n",
    "    mean=np.mean(data)\n",
    "    std=np.std(data)\n",
    "    \n",
    "    \n",
    "    for i in dataset:\n",
    "        z_score=(i-mean)/std\n",
    "        if np.abs(z_score)> threshold:\n",
    "            outliers.append(i)\n",
    "            return outliers"
   ]
  },
  {
   "cell_type": "code",
   "execution_count": 20,
   "id": "cf35068c",
   "metadata": {},
   "outputs": [
    {
     "data": {
      "text/plain": [
       "[11,\n",
       " 10,\n",
       " 12,\n",
       " 14,\n",
       " 13,\n",
       " 15,\n",
       " 102,\n",
       " 12,\n",
       " 14,\n",
       " 17,\n",
       " 107,\n",
       " 18,\n",
       " 13,\n",
       " 12,\n",
       " 108,\n",
       " 12,\n",
       " 11,\n",
       " 14,\n",
       " 15,\n",
       " 10,\n",
       " 14,\n",
       " 13,\n",
       " 15,\n",
       " 10]"
      ]
     },
     "execution_count": 20,
     "metadata": {},
     "output_type": "execute_result"
    }
   ],
   "source": [
    "dataset=[11,10,12,14,13,15,102,12,14,17,107,18,13,12,108,12,11,14,15,10,14,13,15,10]\n",
    "dataset"
   ]
  },
  {
   "cell_type": "code",
   "execution_count": 21,
   "id": "7bc7201a",
   "metadata": {},
   "outputs": [],
   "source": [
    "outliers=[]\n",
    "def detect_outliers(data):\n",
    "    threshold=3\n",
    "    mean=np.mean(data)\n",
    "    std=np.std(data)\n",
    "    \n",
    "    \n",
    "    for i in dataset:\n",
    "        z_score=(i-mean)/std\n",
    "        if np.abs(z_score)> threshold:\n",
    "            outliers.append(i)\n",
    "            return outliers"
   ]
  },
  {
   "cell_type": "code",
   "execution_count": 22,
   "id": "23037c11",
   "metadata": {},
   "outputs": [],
   "source": [
    " detect_outliers(dataset)"
   ]
  },
  {
   "cell_type": "markdown",
   "id": "b5fda74a",
   "metadata": {},
   "source": [
    "# IQR\n",
    "1.sort the data\n",
    "2.claculate Q1 and Q3\n",
    "3.IQR(Q3-Q1)\n",
    "4.lower fence(Q10-1.5(IQR))\n",
    "  upper fence(Q3+1.5(IQR))\n",
    "\n"
   ]
  },
  {
   "cell_type": "code",
   "execution_count": 23,
   "id": "6d913ea7",
   "metadata": {},
   "outputs": [
    {
     "data": {
      "text/plain": [
       "[10,\n",
       " 10,\n",
       " 10,\n",
       " 11,\n",
       " 11,\n",
       " 12,\n",
       " 12,\n",
       " 12,\n",
       " 12,\n",
       " 13,\n",
       " 13,\n",
       " 13,\n",
       " 14,\n",
       " 14,\n",
       " 14,\n",
       " 14,\n",
       " 15,\n",
       " 15,\n",
       " 15,\n",
       " 17,\n",
       " 18,\n",
       " 102,\n",
       " 107,\n",
       " 108]"
      ]
     },
     "execution_count": 23,
     "metadata": {},
     "output_type": "execute_result"
    }
   ],
   "source": [
    "dataset=sorted(dataset)\n",
    "dataset"
   ]
  },
  {
   "cell_type": "code",
   "execution_count": 24,
   "id": "54400024",
   "metadata": {},
   "outputs": [],
   "source": [
    "q1,q3=np.percentile(dataset,[25,75])"
   ]
  },
  {
   "cell_type": "code",
   "execution_count": 25,
   "id": "46eb41e2",
   "metadata": {},
   "outputs": [
    {
     "name": "stdout",
     "output_type": "stream",
     "text": [
      "12.0 15.0\n"
     ]
    }
   ],
   "source": [
    "print(q1,q3)"
   ]
  },
  {
   "cell_type": "code",
   "execution_count": 26,
   "id": "167101fd",
   "metadata": {},
   "outputs": [
    {
     "name": "stdout",
     "output_type": "stream",
     "text": [
      "3.0\n"
     ]
    }
   ],
   "source": [
    "iqr=q3-q1\n",
    "print(iqr)"
   ]
  },
  {
   "cell_type": "code",
   "execution_count": 27,
   "id": "fdcd3afd",
   "metadata": {},
   "outputs": [
    {
     "name": "stdout",
     "output_type": "stream",
     "text": [
      "7.5\n",
      "19.5\n"
     ]
    }
   ],
   "source": [
    "#lowerfence and higher fence\n",
    "lower_fence=q1-(1.5*iqr)\n",
    "print(lower_fence)\n",
    "\n",
    "higher_fence=q3+(1.5*iqr)\n",
    "print(higher_fence)"
   ]
  },
  {
   "cell_type": "code",
   "execution_count": 28,
   "id": "14c76f19",
   "metadata": {},
   "outputs": [
    {
     "name": "stderr",
     "output_type": "stream",
     "text": [
      "C:\\Users\\USER\\anaconda3\\lib\\site-packages\\seaborn\\_decorators.py:36: FutureWarning: Pass the following variable as a keyword arg: x. From version 0.12, the only valid positional argument will be `data`, and passing other arguments without an explicit keyword will result in an error or misinterpretation.\n",
      "  warnings.warn(\n"
     ]
    },
    {
     "data": {
      "text/plain": [
       "<AxesSubplot:>"
      ]
     },
     "execution_count": 28,
     "metadata": {},
     "output_type": "execute_result"
    },
    {
     "data": {
      "image/png": "[encoded data removed]",
      "text/plain": [
       "<Figure size 432x288 with 1 Axes>"
      ]
     },
     "metadata": {
      "needs_background": "light"
     },
     "output_type": "display_data"
    }
   ],
   "source": [
    "sns.boxplot(dataset)"
   ]
  },
  {
   "cell_type": "code",
   "execution_count": 29,
   "id": "bbd477eb",
   "metadata": {},
   "outputs": [
    {
     "ename": "SyntaxError",
     "evalue": "invalid syntax (Temp/ipykernel_12064/589339344.py, line 1)",
     "output_type": "error",
     "traceback": [
      "\u001b[1;36m  File \u001b[1;32m\"C:\\Users\\USER\\AppData\\Local\\Temp/ipykernel_12064/589339344.py\"\u001b[1;36m, line \u001b[1;32m1\u001b[0m\n\u001b[1;33m    suppose the iq in a\u001b[0m\n\u001b[1;37m            ^\u001b[0m\n\u001b[1;31mSyntaxError\u001b[0m\u001b[1;31m:\u001b[0m invalid syntax\n"
     ]
    }
   ],
   "source": [
    "suppose the iq in a "
   ]
  },
  {
   "cell_type": "code",
   "execution_count": 30,
   "id": "c78c3032",
   "metadata": {},
   "outputs": [
    {
     "data": {
      "text/plain": [
       "(-3.019923606888288, 0.0025283844940385087)"
      ]
     },
     "execution_count": 30,
     "metadata": {},
     "output_type": "execute_result"
    }
   ],
   "source": [
    "from statsmodels.stats.weightstats import ztest as ztest\n",
    "\n",
    "#enter IQ levels for 20 patients\n",
    "data=[88,92,94,96,97,97,99,99,\n",
    "      105,109,109,110,112,112,113,114,115]\n",
    "\n",
    "ztest(data,value=110)"
   ]
  },
  {
   "cell_type": "code",
   "execution_count": 31,
   "id": "552be98d",
   "metadata": {},
   "outputs": [],
   "source": [
    "#t-test\n",
    "\n",
    "ages=[10,20,35,50,28,40,55,18,16,55,30,25,43,18,30,28,14,24,16,17,32,35,26,27,65,18,43,23,21,20,19,70]"
   ]
  },
  {
   "cell_type": "code",
   "execution_count": 32,
   "id": "256c2f7c",
   "metadata": {},
   "outputs": [
    {
     "data": {
      "text/plain": [
       "30.34375"
      ]
     },
     "execution_count": 32,
     "metadata": {},
     "output_type": "execute_result"
    }
   ],
   "source": [
    "import numpy as np \n",
    "ages_mean=np.mean(ages)\n",
    "ages_mean"
   ]
  },
  {
   "cell_type": "code",
   "execution_count": 33,
   "id": "bdcc5ca7",
   "metadata": {},
   "outputs": [],
   "source": [
    "sample_size=10\n",
    "ages_sample=np.random.choice(ages,sample_size)"
   ]
  },
  {
   "cell_type": "code",
   "execution_count": 34,
   "id": "46ba9dee",
   "metadata": {},
   "outputs": [
    {
     "data": {
      "text/plain": [
       "array([43, 28, 26, 28, 40, 70, 16, 10, 32, 70])"
      ]
     },
     "execution_count": 34,
     "metadata": {},
     "output_type": "execute_result"
    }
   ],
   "source": [
    "ages_sample"
   ]
  },
  {
   "cell_type": "code",
   "execution_count": 35,
   "id": "0f076772",
   "metadata": {},
   "outputs": [],
   "source": [
    "from scipy.stats import ttest_1samp\n"
   ]
  },
  {
   "cell_type": "code",
   "execution_count": 36,
   "id": "5d4d061a",
   "metadata": {},
   "outputs": [
    {
     "data": {
      "text/plain": [
       "Ttest_1sampResult(statistic=0.9830824605077112, pvalue=0.3512547014723313)"
      ]
     },
     "execution_count": 36,
     "metadata": {},
     "output_type": "execute_result"
    }
   ],
   "source": [
    "ttest_1samp(ages_sample,30)"
   ]
  },
  {
   "cell_type": "code",
   "execution_count": 37,
   "id": "3192ffb2",
   "metadata": {},
   "outputs": [],
   "source": [
    "#consider the examples\n",
    "#ages of the college student(population)\n",
    "#1 class student mean of all the ages"
   ]
  },
  {
   "cell_type": "code",
   "execution_count": 38,
   "id": "86c32930",
   "metadata": {},
   "outputs": [],
   "source": [
    "import pandas as pd\n",
    "import numpy as np\n",
    "import scipy.stats as stats\n",
    "import math\n",
    "np.random.seed(6)\n",
    "school_ages=stats.poisson.rvs(loc=18,mu=35,size=1500)\n",
    "classA_ages=stats.poisson.rvs(loc=18,mu=30,size=60)\n"
   ]
  },
  {
   "cell_type": "code",
   "execution_count": 39,
   "id": "6488a402",
   "metadata": {},
   "outputs": [
    {
     "data": {
      "text/plain": [
       "array([62, 59, 44, ..., 45, 52, 50])"
      ]
     },
     "execution_count": 39,
     "metadata": {},
     "output_type": "execute_result"
    }
   ],
   "source": [
    "school_ages\n"
   ]
  },
  {
   "cell_type": "code",
   "execution_count": 40,
   "id": "239a3c2f",
   "metadata": {},
   "outputs": [
    {
     "data": {
      "text/plain": [
       "array([52, 46, 40, 40, 47, 50, 51, 45, 44, 52, 46, 53, 43, 44, 51, 50, 54,\n",
       "       42, 54, 45, 61, 53, 49, 46, 47, 41, 45, 51, 43, 45, 48, 50, 40, 52,\n",
       "       44, 55, 54, 40, 45, 46, 54, 42, 46, 35, 51, 51, 46, 48, 47, 35, 52,\n",
       "       52, 39, 44, 48, 40, 42, 46, 47, 45])"
      ]
     },
     "execution_count": 40,
     "metadata": {},
     "output_type": "execute_result"
    }
   ],
   "source": [
    "classA_ages"
   ]
  },
  {
   "cell_type": "code",
   "execution_count": 41,
   "id": "e99f48af",
   "metadata": {},
   "outputs": [
    {
     "data": {
      "text/plain": [
       "46.9"
      ]
     },
     "execution_count": 41,
     "metadata": {},
     "output_type": "execute_result"
    }
   ],
   "source": [
    "classA_ages.mean()"
   ]
  },
  {
   "cell_type": "code",
   "execution_count": 42,
   "id": "315e064d",
   "metadata": {},
   "outputs": [
    {
     "data": {
      "text/plain": [
       "53.303333333333335"
      ]
     },
     "execution_count": 42,
     "metadata": {},
     "output_type": "execute_result"
    }
   ],
   "source": [
    "school_ages.mean()"
   ]
  },
  {
   "cell_type": "code",
   "execution_count": 43,
   "id": "399df7d1",
   "metadata": {},
   "outputs": [
    {
     "data": {
      "text/plain": [
       "Ttest_1sampResult(statistic=array([-22.64952014, -18.14961548,   4.34990784, ...,   2.84993962,\n",
       "        -7.64983793,  -4.64990149]), pvalue=array([8.59869379e-31, 8.04081611e-26, 5.47361714e-05, ...,\n",
       "       6.01398466e-03, 2.14288975e-10, 1.91690664e-05]))"
      ]
     },
     "execution_count": 43,
     "metadata": {},
     "output_type": "execute_result"
    }
   ],
   "source": [
    "ttest_1samp(classA_ages,school_ages)"
   ]
  },
  {
   "cell_type": "code",
   "execution_count": 44,
   "id": "d87916f0",
   "metadata": {},
   "outputs": [
    {
     "data": {
      "text/plain": [
       "1.139027071016194e-13"
      ]
     },
     "execution_count": 44,
     "metadata": {},
     "output_type": "execute_result"
    }
   ],
   "source": [
    "_,p_value=ttest_1samp(classA_ages,school_ages.mean())\n",
    "p_value"
   ]
  },
  {
   "cell_type": "code",
   "execution_count": 45,
   "id": "12cfe54e",
   "metadata": {},
   "outputs": [
    {
     "ename": "SyntaxError",
     "evalue": "EOL while scanning string literal (Temp/ipykernel_12064/460067517.py, line 4)",
     "output_type": "error",
     "traceback": [
      "\u001b[1;36m  File \u001b[1;32m\"C:\\Users\\USER\\AppData\\Local\\Temp/ipykernel_12064/460067517.py\"\u001b[1;36m, line \u001b[1;32m4\u001b[0m\n\u001b[1;33m    print(\" accept null hypothesis\"\")\u001b[0m\n\u001b[1;37m                                     ^\u001b[0m\n\u001b[1;31mSyntaxError\u001b[0m\u001b[1;31m:\u001b[0m EOL while scanning string literal\n"
     ]
    }
   ],
   "source": [
    "if p_value<0.05:\n",
    "    print(\"reject null hypothesis\")\n",
    "else:\n",
    "    print(\" accept null hypothesis\"\")"
   ]
  },
  {
   "cell_type": "code",
   "execution_count": 46,
   "id": "7038df99",
   "metadata": {},
   "outputs": [],
   "source": [
    "import seaborn as sns"
   ]
  },
  {
   "cell_type": "code",
   "execution_count": 47,
   "id": "6f20091d",
   "metadata": {},
   "outputs": [
    {
     "data": {
      "text/html": [
       "<div>\n",
       "<style scoped>\n",
       "    .dataframe tbody tr th:only-of-type {\n",
       "        vertical-align: middle;\n",
       "    }\n",
       "\n",
       "    .dataframe tbody tr th {\n",
       "        vertical-align: top;\n",
       "    }\n",
       "\n",
       "    .dataframe thead th {\n",
       "        text-align: right;\n",
       "    }\n",
       "</style>\n",
       "<table border=\"1\" class=\"dataframe\">\n",
       "  <thead>\n",
       "    <tr style=\"text-align: right;\">\n",
       "      <th></th>\n",
       "      <th>no</th>\n",
       "      <th>pregnancies</th>\n",
       "      <th>BloodPressure</th>\n",
       "      <th>Glucose</th>\n",
       "      <th>SkinThickness</th>\n",
       "      <th>Insulin</th>\n",
       "      <th>BMI</th>\n",
       "      <th>Age</th>\n",
       "      <th>Outcome</th>\n",
       "    </tr>\n",
       "  </thead>\n",
       "  <tbody>\n",
       "    <tr>\n",
       "      <th>0</th>\n",
       "      <td>1</td>\n",
       "      <td>6</td>\n",
       "      <td>72</td>\n",
       "      <td>148</td>\n",
       "      <td>35</td>\n",
       "      <td>0</td>\n",
       "      <td>33.6</td>\n",
       "      <td>50</td>\n",
       "      <td>1</td>\n",
       "    </tr>\n",
       "    <tr>\n",
       "      <th>1</th>\n",
       "      <td>2</td>\n",
       "      <td>1</td>\n",
       "      <td>66</td>\n",
       "      <td>85</td>\n",
       "      <td>29</td>\n",
       "      <td>0</td>\n",
       "      <td>26.6</td>\n",
       "      <td>31</td>\n",
       "      <td>0</td>\n",
       "    </tr>\n",
       "    <tr>\n",
       "      <th>2</th>\n",
       "      <td>3</td>\n",
       "      <td>8</td>\n",
       "      <td>64</td>\n",
       "      <td>180</td>\n",
       "      <td>0</td>\n",
       "      <td>0</td>\n",
       "      <td>23.3</td>\n",
       "      <td>32</td>\n",
       "      <td>1</td>\n",
       "    </tr>\n",
       "    <tr>\n",
       "      <th>3</th>\n",
       "      <td>4</td>\n",
       "      <td>1</td>\n",
       "      <td>66</td>\n",
       "      <td>89</td>\n",
       "      <td>23</td>\n",
       "      <td>94</td>\n",
       "      <td>28.1</td>\n",
       "      <td>21</td>\n",
       "      <td>0</td>\n",
       "    </tr>\n",
       "    <tr>\n",
       "      <th>4</th>\n",
       "      <td>5</td>\n",
       "      <td>0</td>\n",
       "      <td>40</td>\n",
       "      <td>137</td>\n",
       "      <td>35</td>\n",
       "      <td>168</td>\n",
       "      <td>43.1</td>\n",
       "      <td>33</td>\n",
       "      <td>1</td>\n",
       "    </tr>\n",
       "    <tr>\n",
       "      <th>5</th>\n",
       "      <td>6</td>\n",
       "      <td>5</td>\n",
       "      <td>74</td>\n",
       "      <td>116</td>\n",
       "      <td>0</td>\n",
       "      <td>0</td>\n",
       "      <td>25.6</td>\n",
       "      <td>30</td>\n",
       "      <td>0</td>\n",
       "    </tr>\n",
       "    <tr>\n",
       "      <th>6</th>\n",
       "      <td>7</td>\n",
       "      <td>3</td>\n",
       "      <td>50</td>\n",
       "      <td>78</td>\n",
       "      <td>32</td>\n",
       "      <td>88</td>\n",
       "      <td>31.0</td>\n",
       "      <td>26</td>\n",
       "      <td>1</td>\n",
       "    </tr>\n",
       "    <tr>\n",
       "      <th>7</th>\n",
       "      <td>8</td>\n",
       "      <td>10</td>\n",
       "      <td>0</td>\n",
       "      <td>115</td>\n",
       "      <td>0</td>\n",
       "      <td>0</td>\n",
       "      <td>35.3</td>\n",
       "      <td>29</td>\n",
       "      <td>0</td>\n",
       "    </tr>\n",
       "    <tr>\n",
       "      <th>8</th>\n",
       "      <td>9</td>\n",
       "      <td>2</td>\n",
       "      <td>70</td>\n",
       "      <td>197</td>\n",
       "      <td>45</td>\n",
       "      <td>543</td>\n",
       "      <td>30.5</td>\n",
       "      <td>53</td>\n",
       "      <td>1</td>\n",
       "    </tr>\n",
       "    <tr>\n",
       "      <th>9</th>\n",
       "      <td>10</td>\n",
       "      <td>8</td>\n",
       "      <td>96</td>\n",
       "      <td>125</td>\n",
       "      <td>0</td>\n",
       "      <td>0</td>\n",
       "      <td>0.0</td>\n",
       "      <td>54</td>\n",
       "      <td>1</td>\n",
       "    </tr>\n",
       "  </tbody>\n",
       "</table>\n",
       "</div>"
      ],
      "text/plain": [
       "   no  pregnancies  BloodPressure  Glucose  SkinThickness  Insulin   BMI  Age  \\\n",
       "0   1            6             72      148             35        0  33.6   50   \n",
       "1   2            1             66       85             29        0  26.6   31   \n",
       "2   3            8             64      180              0        0  23.3   32   \n",
       "3   4            1             66       89             23       94  28.1   21   \n",
       "4   5            0             40      137             35      168  43.1   33   \n",
       "5   6            5             74      116              0        0  25.6   30   \n",
       "6   7            3             50       78             32       88  31.0   26   \n",
       "7   8           10              0      115              0        0  35.3   29   \n",
       "8   9            2             70      197             45      543  30.5   53   \n",
       "9  10            8             96      125              0        0   0.0   54   \n",
       "\n",
       "   Outcome  \n",
       "0        1  \n",
       "1        0  \n",
       "2        1  \n",
       "3        0  \n",
       "4        1  \n",
       "5        0  \n",
       "6        1  \n",
       "7        0  \n",
       "8        1  \n",
       "9        1  "
      ]
     },
     "execution_count": 47,
     "metadata": {},
     "output_type": "execute_result"
    }
   ],
   "source": [
    "df=pd.read_csv('C:\\\\Users\\\\USER\\\\OneDrive\\\\Documents\\\\Book1.csv')\n",
    "df"
   ]
  },
  {
   "cell_type": "code",
   "execution_count": 48,
   "id": "923138d9",
   "metadata": {},
   "outputs": [
    {
     "data": {
      "text/html": [
       "<div>\n",
       "<style scoped>\n",
       "    .dataframe tbody tr th:only-of-type {\n",
       "        vertical-align: middle;\n",
       "    }\n",
       "\n",
       "    .dataframe tbody tr th {\n",
       "        vertical-align: top;\n",
       "    }\n",
       "\n",
       "    .dataframe thead th {\n",
       "        text-align: right;\n",
       "    }\n",
       "</style>\n",
       "<table border=\"1\" class=\"dataframe\">\n",
       "  <thead>\n",
       "    <tr style=\"text-align: right;\">\n",
       "      <th></th>\n",
       "      <th>no</th>\n",
       "      <th>pregnancies</th>\n",
       "      <th>BloodPressure</th>\n",
       "      <th>Glucose</th>\n",
       "      <th>SkinThickness</th>\n",
       "      <th>Insulin</th>\n",
       "      <th>BMI</th>\n",
       "      <th>Age</th>\n",
       "      <th>Outcome</th>\n",
       "    </tr>\n",
       "  </thead>\n",
       "  <tbody>\n",
       "    <tr>\n",
       "      <th>no</th>\n",
       "      <td>1.000000</td>\n",
       "      <td>0.241000</td>\n",
       "      <td>-0.064371</td>\n",
       "      <td>0.091700</td>\n",
       "      <td>-0.215358</td>\n",
       "      <td>0.390339</td>\n",
       "      <td>-0.364901</td>\n",
       "      <td>0.288982</td>\n",
       "      <td>0.142134</td>\n",
       "    </tr>\n",
       "    <tr>\n",
       "      <th>pregnancies</th>\n",
       "      <td>0.241000</td>\n",
       "      <td>1.000000</td>\n",
       "      <td>-0.157293</td>\n",
       "      <td>0.217793</td>\n",
       "      <td>-0.754551</td>\n",
       "      <td>-0.463945</td>\n",
       "      <td>-0.398816</td>\n",
       "      <td>0.225499</td>\n",
       "      <td>0.036860</td>\n",
       "    </tr>\n",
       "    <tr>\n",
       "      <th>BloodPressure</th>\n",
       "      <td>-0.064371</td>\n",
       "      <td>-0.157293</td>\n",
       "      <td>1.000000</td>\n",
       "      <td>0.160470</td>\n",
       "      <td>0.048614</td>\n",
       "      <td>0.049254</td>\n",
       "      <td>-0.671852</td>\n",
       "      <td>0.490878</td>\n",
       "      <td>0.278445</td>\n",
       "    </tr>\n",
       "    <tr>\n",
       "      <th>Glucose</th>\n",
       "      <td>0.091700</td>\n",
       "      <td>0.217793</td>\n",
       "      <td>0.160470</td>\n",
       "      <td>1.000000</td>\n",
       "      <td>0.089694</td>\n",
       "      <td>0.524879</td>\n",
       "      <td>0.024235</td>\n",
       "      <td>0.620213</td>\n",
       "      <td>0.559360</td>\n",
       "    </tr>\n",
       "    <tr>\n",
       "      <th>SkinThickness</th>\n",
       "      <td>-0.215358</td>\n",
       "      <td>-0.754551</td>\n",
       "      <td>0.048614</td>\n",
       "      <td>0.089694</td>\n",
       "      <td>1.000000</td>\n",
       "      <td>0.637260</td>\n",
       "      <td>0.522803</td>\n",
       "      <td>0.187328</td>\n",
       "      <td>0.330323</td>\n",
       "    </tr>\n",
       "    <tr>\n",
       "      <th>Insulin</th>\n",
       "      <td>0.390339</td>\n",
       "      <td>-0.463945</td>\n",
       "      <td>0.049254</td>\n",
       "      <td>0.524879</td>\n",
       "      <td>0.637260</td>\n",
       "      <td>1.000000</td>\n",
       "      <td>0.257067</td>\n",
       "      <td>0.359371</td>\n",
       "      <td>0.333250</td>\n",
       "    </tr>\n",
       "    <tr>\n",
       "      <th>BMI</th>\n",
       "      <td>-0.364901</td>\n",
       "      <td>-0.398816</td>\n",
       "      <td>-0.671852</td>\n",
       "      <td>0.024235</td>\n",
       "      <td>0.522803</td>\n",
       "      <td>0.257067</td>\n",
       "      <td>1.000000</td>\n",
       "      <td>-0.391533</td>\n",
       "      <td>-0.090966</td>\n",
       "    </tr>\n",
       "    <tr>\n",
       "      <th>Age</th>\n",
       "      <td>0.288982</td>\n",
       "      <td>0.225499</td>\n",
       "      <td>0.490878</td>\n",
       "      <td>0.620213</td>\n",
       "      <td>0.187328</td>\n",
       "      <td>0.359371</td>\n",
       "      <td>-0.391533</td>\n",
       "      <td>1.000000</td>\n",
       "      <td>0.590743</td>\n",
       "    </tr>\n",
       "    <tr>\n",
       "      <th>Outcome</th>\n",
       "      <td>0.142134</td>\n",
       "      <td>0.036860</td>\n",
       "      <td>0.278445</td>\n",
       "      <td>0.559360</td>\n",
       "      <td>0.330323</td>\n",
       "      <td>0.333250</td>\n",
       "      <td>-0.090966</td>\n",
       "      <td>0.590743</td>\n",
       "      <td>1.000000</td>\n",
       "    </tr>\n",
       "  </tbody>\n",
       "</table>\n",
       "</div>"
      ],
      "text/plain": [
       "                     no  pregnancies  BloodPressure   Glucose  SkinThickness  \\\n",
       "no             1.000000     0.241000      -0.064371  0.091700      -0.215358   \n",
       "pregnancies    0.241000     1.000000      -0.157293  0.217793      -0.754551   \n",
       "BloodPressure -0.064371    -0.157293       1.000000  0.160470       0.048614   \n",
       "Glucose        0.091700     0.217793       0.160470  1.000000       0.089694   \n",
       "SkinThickness -0.215358    -0.754551       0.048614  0.089694       1.000000   \n",
       "Insulin        0.390339    -0.463945       0.049254  0.524879       0.637260   \n",
       "BMI           -0.364901    -0.398816      -0.671852  0.024235       0.522803   \n",
       "Age            0.288982     0.225499       0.490878  0.620213       0.187328   \n",
       "Outcome        0.142134     0.036860       0.278445  0.559360       0.330323   \n",
       "\n",
       "                Insulin       BMI       Age   Outcome  \n",
       "no             0.390339 -0.364901  0.288982  0.142134  \n",
       "pregnancies   -0.463945 -0.398816  0.225499  0.036860  \n",
       "BloodPressure  0.049254 -0.671852  0.490878  0.278445  \n",
       "Glucose        0.524879  0.024235  0.620213  0.559360  \n",
       "SkinThickness  0.637260  0.522803  0.187328  0.330323  \n",
       "Insulin        1.000000  0.257067  0.359371  0.333250  \n",
       "BMI            0.257067  1.000000 -0.391533 -0.090966  \n",
       "Age            0.359371 -0.391533  1.000000  0.590743  \n",
       "Outcome        0.333250 -0.090966  0.590743  1.000000  "
      ]
     },
     "execution_count": 48,
     "metadata": {},
     "output_type": "execute_result"
    }
   ],
   "source": [
    "df.corr()\n"
   ]
  },
  {
   "cell_type": "code",
   "execution_count": 49,
   "id": "7c3e8088",
   "metadata": {},
   "outputs": [
    {
     "data": {
      "text/html": [
       "<div>\n",
       "<style scoped>\n",
       "    .dataframe tbody tr th:only-of-type {\n",
       "        vertical-align: middle;\n",
       "    }\n",
       "\n",
       "    .dataframe tbody tr th {\n",
       "        vertical-align: top;\n",
       "    }\n",
       "\n",
       "    .dataframe thead th {\n",
       "        text-align: right;\n",
       "    }\n",
       "</style>\n",
       "<table border=\"1\" class=\"dataframe\">\n",
       "  <thead>\n",
       "    <tr style=\"text-align: right;\">\n",
       "      <th></th>\n",
       "      <th>no</th>\n",
       "      <th>pregnancies</th>\n",
       "      <th>BloodPressure</th>\n",
       "      <th>Glucose</th>\n",
       "      <th>SkinThickness</th>\n",
       "      <th>Insulin</th>\n",
       "      <th>BMI</th>\n",
       "      <th>Age</th>\n",
       "      <th>Outcome</th>\n",
       "    </tr>\n",
       "  </thead>\n",
       "  <tbody>\n",
       "    <tr>\n",
       "      <th>no</th>\n",
       "      <td>9.166667</td>\n",
       "      <td>2.555556</td>\n",
       "      <td>-5.000000</td>\n",
       "      <td>11.000000</td>\n",
       "      <td>-11.722222</td>\n",
       "      <td>200.833333</td>\n",
       "      <td>-12.438889</td>\n",
       "      <td>10.388889</td>\n",
       "      <td>0.222222</td>\n",
       "    </tr>\n",
       "    <tr>\n",
       "      <th>pregnancies</th>\n",
       "      <td>2.555556</td>\n",
       "      <td>12.266667</td>\n",
       "      <td>-14.133333</td>\n",
       "      <td>30.222222</td>\n",
       "      <td>-47.511111</td>\n",
       "      <td>-276.133333</td>\n",
       "      <td>-15.726667</td>\n",
       "      <td>9.377778</td>\n",
       "      <td>0.066667</td>\n",
       "    </tr>\n",
       "    <tr>\n",
       "      <th>BloodPressure</th>\n",
       "      <td>-5.000000</td>\n",
       "      <td>-14.133333</td>\n",
       "      <td>658.177778</td>\n",
       "      <td>163.111111</td>\n",
       "      <td>22.422222</td>\n",
       "      <td>214.733333</td>\n",
       "      <td>-194.064444</td>\n",
       "      <td>149.533333</td>\n",
       "      <td>3.688889</td>\n",
       "    </tr>\n",
       "    <tr>\n",
       "      <th>Glucose</th>\n",
       "      <td>11.000000</td>\n",
       "      <td>30.222222</td>\n",
       "      <td>163.111111</td>\n",
       "      <td>1569.777778</td>\n",
       "      <td>63.888889</td>\n",
       "      <td>3534.000000</td>\n",
       "      <td>10.811111</td>\n",
       "      <td>291.777778</td>\n",
       "      <td>11.444444</td>\n",
       "    </tr>\n",
       "    <tr>\n",
       "      <th>SkinThickness</th>\n",
       "      <td>-11.722222</td>\n",
       "      <td>-47.511111</td>\n",
       "      <td>22.422222</td>\n",
       "      <td>63.888889</td>\n",
       "      <td>323.211111</td>\n",
       "      <td>1946.922222</td>\n",
       "      <td>105.823333</td>\n",
       "      <td>39.988889</td>\n",
       "      <td>3.066667</td>\n",
       "    </tr>\n",
       "    <tr>\n",
       "      <th>Insulin</th>\n",
       "      <td>200.833333</td>\n",
       "      <td>-276.133333</td>\n",
       "      <td>214.733333</td>\n",
       "      <td>3534.000000</td>\n",
       "      <td>1946.922222</td>\n",
       "      <td>28878.677778</td>\n",
       "      <td>491.852222</td>\n",
       "      <td>725.144444</td>\n",
       "      <td>29.244444</td>\n",
       "    </tr>\n",
       "    <tr>\n",
       "      <th>BMI</th>\n",
       "      <td>-12.438889</td>\n",
       "      <td>-15.726667</td>\n",
       "      <td>-194.064444</td>\n",
       "      <td>10.811111</td>\n",
       "      <td>105.823333</td>\n",
       "      <td>491.852222</td>\n",
       "      <td>126.765444</td>\n",
       "      <td>-52.343333</td>\n",
       "      <td>-0.528889</td>\n",
       "    </tr>\n",
       "    <tr>\n",
       "      <th>Age</th>\n",
       "      <td>10.388889</td>\n",
       "      <td>9.377778</td>\n",
       "      <td>149.533333</td>\n",
       "      <td>291.777778</td>\n",
       "      <td>39.988889</td>\n",
       "      <td>725.144444</td>\n",
       "      <td>-52.343333</td>\n",
       "      <td>140.988889</td>\n",
       "      <td>3.622222</td>\n",
       "    </tr>\n",
       "    <tr>\n",
       "      <th>Outcome</th>\n",
       "      <td>0.222222</td>\n",
       "      <td>0.066667</td>\n",
       "      <td>3.688889</td>\n",
       "      <td>11.444444</td>\n",
       "      <td>3.066667</td>\n",
       "      <td>29.244444</td>\n",
       "      <td>-0.528889</td>\n",
       "      <td>3.622222</td>\n",
       "      <td>0.266667</td>\n",
       "    </tr>\n",
       "  </tbody>\n",
       "</table>\n",
       "</div>"
      ],
      "text/plain": [
       "                       no  pregnancies  BloodPressure      Glucose  \\\n",
       "no               9.166667     2.555556      -5.000000    11.000000   \n",
       "pregnancies      2.555556    12.266667     -14.133333    30.222222   \n",
       "BloodPressure   -5.000000   -14.133333     658.177778   163.111111   \n",
       "Glucose         11.000000    30.222222     163.111111  1569.777778   \n",
       "SkinThickness  -11.722222   -47.511111      22.422222    63.888889   \n",
       "Insulin        200.833333  -276.133333     214.733333  3534.000000   \n",
       "BMI            -12.438889   -15.726667    -194.064444    10.811111   \n",
       "Age             10.388889     9.377778     149.533333   291.777778   \n",
       "Outcome          0.222222     0.066667       3.688889    11.444444   \n",
       "\n",
       "               SkinThickness       Insulin         BMI         Age    Outcome  \n",
       "no                -11.722222    200.833333  -12.438889   10.388889   0.222222  \n",
       "pregnancies       -47.511111   -276.133333  -15.726667    9.377778   0.066667  \n",
       "BloodPressure      22.422222    214.733333 -194.064444  149.533333   3.688889  \n",
       "Glucose            63.888889   3534.000000   10.811111  291.777778  11.444444  \n",
       "SkinThickness     323.211111   1946.922222  105.823333   39.988889   3.066667  \n",
       "Insulin          1946.922222  28878.677778  491.852222  725.144444  29.244444  \n",
       "BMI               105.823333    491.852222  126.765444  -52.343333  -0.528889  \n",
       "Age                39.988889    725.144444  -52.343333  140.988889   3.622222  \n",
       "Outcome             3.066667     29.244444   -0.528889    3.622222   0.266667  "
      ]
     },
     "execution_count": 49,
     "metadata": {},
     "output_type": "execute_result"
    }
   ],
   "source": [
    "df.cov()"
   ]
  },
  {
   "cell_type": "code",
   "execution_count": 50,
   "id": "18db115b",
   "metadata": {},
   "outputs": [
    {
     "ename": "NameError",
     "evalue": "name 'corr' is not defined",
     "output_type": "error",
     "traceback": [
      "\u001b[1;31m---------------------------------------------------------------------------\u001b[0m",
      "\u001b[1;31mNameError\u001b[0m                                 Traceback (most recent call last)",
      "\u001b[1;32m~\\AppData\\Local\\Temp/ipykernel_12064/1143303832.py\u001b[0m in \u001b[0;36m<module>\u001b[1;34m\u001b[0m\n\u001b[1;32m----> 1\u001b[1;33m \u001b[0mcorr\u001b[0m\u001b[1;33m(\u001b[0m\u001b[0mX\u001b[0m\u001b[1;33m=\u001b[0m\u001b[0mBMI\u001b[0m\u001b[1;33m,\u001b[0m\u001b[0mY\u001b[0m\u001b[1;33m=\u001b[0m\u001b[0mAge\u001b[0m\u001b[1;33m)\u001b[0m\u001b[1;33m\u001b[0m\u001b[1;33m\u001b[0m\u001b[0m\n\u001b[0m",
      "\u001b[1;31mNameError\u001b[0m: name 'corr' is not defined"
     ]
    }
   ],
   "source": [
    "corr(X=BMI,Y=Age)"
   ]
  },
  {
   "cell_type": "code",
   "execution_count": null,
   "id": "83d75a03",
   "metadata": {},
   "outputs": [],
   "source": [
    "import seaborn as sns"
   ]
  },
  {
   "cell_type": "markdown",
   "id": "d680cff2",
   "metadata": {},
   "source": [
    "# TIME SERIES ANALYSIS"
   ]
  },
  {
   "cell_type": "code",
   "execution_count": null,
   "id": "e8823ec8",
   "metadata": {},
   "outputs": [],
   "source": [
    "import numpy as np\n",
    "import pandas as pd\n",
    "import matplotlib.pyplot as plt\n",
    "from statsmodels.tsa.seasonal import seasonal_decompose"
   ]
  },
  {
   "cell_type": "code",
   "execution_count": null,
   "id": "1f0008e7",
   "metadata": {},
   "outputs": [],
   "source": [
    "df= pd.read_csv(\"C:\\\\Users\\\\USER\\\\Downloads\\\\AirPassengers.csv\")"
   ]
  },
  {
   "cell_type": "code",
   "execution_count": null,
   "id": "38fef061",
   "metadata": {},
   "outputs": [],
   "source": [
    "df.dtypes"
   ]
  },
  {
   "cell_type": "code",
   "execution_count": 51,
   "id": "867e6661",
   "metadata": {},
   "outputs": [],
   "source": [
    "df= pd.read_csv(\"C:\\\\Users\\\\USER\\\\Downloads\\\\AirPassengers.csv\", parse_dates=['Month'])"
   ]
  },
  {
   "cell_type": "code",
   "execution_count": 52,
   "id": "e8e80d4a",
   "metadata": {},
   "outputs": [
    {
     "data": {
      "text/plain": [
       "Month          datetime64[ns]\n",
       "#Passengers             int64\n",
       "dtype: object"
      ]
     },
     "execution_count": 52,
     "metadata": {},
     "output_type": "execute_result"
    }
   ],
   "source": [
    "df.dtypes"
   ]
  },
  {
   "cell_type": "code",
   "execution_count": 53,
   "id": "e4260756",
   "metadata": {},
   "outputs": [
    {
     "data": {
      "text/html": [
       "<div>\n",
       "<style scoped>\n",
       "    .dataframe tbody tr th:only-of-type {\n",
       "        vertical-align: middle;\n",
       "    }\n",
       "\n",
       "    .dataframe tbody tr th {\n",
       "        vertical-align: top;\n",
       "    }\n",
       "\n",
       "    .dataframe thead th {\n",
       "        text-align: right;\n",
       "    }\n",
       "</style>\n",
       "<table border=\"1\" class=\"dataframe\">\n",
       "  <thead>\n",
       "    <tr style=\"text-align: right;\">\n",
       "      <th></th>\n",
       "      <th>Month</th>\n",
       "      <th>#Passengers</th>\n",
       "    </tr>\n",
       "  </thead>\n",
       "  <tbody>\n",
       "    <tr>\n",
       "      <th>0</th>\n",
       "      <td>1949-01-01</td>\n",
       "      <td>112</td>\n",
       "    </tr>\n",
       "    <tr>\n",
       "      <th>1</th>\n",
       "      <td>1949-02-01</td>\n",
       "      <td>118</td>\n",
       "    </tr>\n",
       "    <tr>\n",
       "      <th>2</th>\n",
       "      <td>1949-03-01</td>\n",
       "      <td>132</td>\n",
       "    </tr>\n",
       "    <tr>\n",
       "      <th>3</th>\n",
       "      <td>1949-04-01</td>\n",
       "      <td>129</td>\n",
       "    </tr>\n",
       "    <tr>\n",
       "      <th>4</th>\n",
       "      <td>1949-05-01</td>\n",
       "      <td>121</td>\n",
       "    </tr>\n",
       "  </tbody>\n",
       "</table>\n",
       "</div>"
      ],
      "text/plain": [
       "       Month  #Passengers\n",
       "0 1949-01-01          112\n",
       "1 1949-02-01          118\n",
       "2 1949-03-01          132\n",
       "3 1949-04-01          129\n",
       "4 1949-05-01          121"
      ]
     },
     "execution_count": 53,
     "metadata": {},
     "output_type": "execute_result"
    }
   ],
   "source": [
    "df.head()"
   ]
  },
  {
   "cell_type": "code",
   "execution_count": 54,
   "id": "c15636af",
   "metadata": {},
   "outputs": [],
   "source": [
    "df= pd.read_csv(\"C:\\\\Users\\\\USER\\\\Downloads\\\\AirPassengers.csv\", parse_dates=['Month'],index_col='Month')"
   ]
  },
  {
   "cell_type": "code",
   "execution_count": 55,
   "id": "775ac0e0",
   "metadata": {},
   "outputs": [
    {
     "data": {
      "text/html": [
       "<div>\n",
       "<style scoped>\n",
       "    .dataframe tbody tr th:only-of-type {\n",
       "        vertical-align: middle;\n",
       "    }\n",
       "\n",
       "    .dataframe tbody tr th {\n",
       "        vertical-align: top;\n",
       "    }\n",
       "\n",
       "    .dataframe thead th {\n",
       "        text-align: right;\n",
       "    }\n",
       "</style>\n",
       "<table border=\"1\" class=\"dataframe\">\n",
       "  <thead>\n",
       "    <tr style=\"text-align: right;\">\n",
       "      <th></th>\n",
       "      <th>#Passengers</th>\n",
       "    </tr>\n",
       "    <tr>\n",
       "      <th>Month</th>\n",
       "      <th></th>\n",
       "    </tr>\n",
       "  </thead>\n",
       "  <tbody>\n",
       "    <tr>\n",
       "      <th>1949-01-01</th>\n",
       "      <td>112</td>\n",
       "    </tr>\n",
       "    <tr>\n",
       "      <th>1949-02-01</th>\n",
       "      <td>118</td>\n",
       "    </tr>\n",
       "    <tr>\n",
       "      <th>1949-03-01</th>\n",
       "      <td>132</td>\n",
       "    </tr>\n",
       "    <tr>\n",
       "      <th>1949-04-01</th>\n",
       "      <td>129</td>\n",
       "    </tr>\n",
       "    <tr>\n",
       "      <th>1949-05-01</th>\n",
       "      <td>121</td>\n",
       "    </tr>\n",
       "  </tbody>\n",
       "</table>\n",
       "</div>"
      ],
      "text/plain": [
       "            #Passengers\n",
       "Month                  \n",
       "1949-01-01          112\n",
       "1949-02-01          118\n",
       "1949-03-01          132\n",
       "1949-04-01          129\n",
       "1949-05-01          121"
      ]
     },
     "execution_count": 55,
     "metadata": {},
     "output_type": "execute_result"
    }
   ],
   "source": [
    "df.head()"
   ]
  },
  {
   "cell_type": "code",
   "execution_count": 56,
   "id": "735d0e50",
   "metadata": {},
   "outputs": [
    {
     "data": {
      "text/html": [
       "<div>\n",
       "<style scoped>\n",
       "    .dataframe tbody tr th:only-of-type {\n",
       "        vertical-align: middle;\n",
       "    }\n",
       "\n",
       "    .dataframe tbody tr th {\n",
       "        vertical-align: top;\n",
       "    }\n",
       "\n",
       "    .dataframe thead th {\n",
       "        text-align: right;\n",
       "    }\n",
       "</style>\n",
       "<table border=\"1\" class=\"dataframe\">\n",
       "  <thead>\n",
       "    <tr style=\"text-align: right;\">\n",
       "      <th></th>\n",
       "      <th>#Passengers</th>\n",
       "    </tr>\n",
       "    <tr>\n",
       "      <th>Month</th>\n",
       "      <th></th>\n",
       "    </tr>\n",
       "  </thead>\n",
       "  <tbody>\n",
       "    <tr>\n",
       "      <th>1951-04-01</th>\n",
       "      <td>163</td>\n",
       "    </tr>\n",
       "    <tr>\n",
       "      <th>1951-05-01</th>\n",
       "      <td>172</td>\n",
       "    </tr>\n",
       "    <tr>\n",
       "      <th>1951-06-01</th>\n",
       "      <td>178</td>\n",
       "    </tr>\n",
       "    <tr>\n",
       "      <th>1951-07-01</th>\n",
       "      <td>199</td>\n",
       "    </tr>\n",
       "    <tr>\n",
       "      <th>1951-08-01</th>\n",
       "      <td>199</td>\n",
       "    </tr>\n",
       "    <tr>\n",
       "      <th>1951-09-01</th>\n",
       "      <td>184</td>\n",
       "    </tr>\n",
       "    <tr>\n",
       "      <th>1951-10-01</th>\n",
       "      <td>162</td>\n",
       "    </tr>\n",
       "    <tr>\n",
       "      <th>1951-11-01</th>\n",
       "      <td>146</td>\n",
       "    </tr>\n",
       "    <tr>\n",
       "      <th>1951-12-01</th>\n",
       "      <td>166</td>\n",
       "    </tr>\n",
       "    <tr>\n",
       "      <th>1952-01-01</th>\n",
       "      <td>171</td>\n",
       "    </tr>\n",
       "    <tr>\n",
       "      <th>1952-02-01</th>\n",
       "      <td>180</td>\n",
       "    </tr>\n",
       "    <tr>\n",
       "      <th>1952-03-01</th>\n",
       "      <td>193</td>\n",
       "    </tr>\n",
       "  </tbody>\n",
       "</table>\n",
       "</div>"
      ],
      "text/plain": [
       "            #Passengers\n",
       "Month                  \n",
       "1951-04-01          163\n",
       "1951-05-01          172\n",
       "1951-06-01          178\n",
       "1951-07-01          199\n",
       "1951-08-01          199\n",
       "1951-09-01          184\n",
       "1951-10-01          162\n",
       "1951-11-01          146\n",
       "1951-12-01          166\n",
       "1952-01-01          171\n",
       "1952-02-01          180\n",
       "1952-03-01          193"
      ]
     },
     "execution_count": 56,
     "metadata": {},
     "output_type": "execute_result"
    }
   ],
   "source": [
    "df['1951-04-01':'1952-03-01']"
   ]
  },
  {
   "cell_type": "code",
   "execution_count": 57,
   "id": "c9bf9939",
   "metadata": {},
   "outputs": [
    {
     "data": {
      "text/plain": [
       "#Passengers    472\n",
       "Name: 1960-05-01 00:00:00, dtype: int64"
      ]
     },
     "execution_count": 57,
     "metadata": {},
     "output_type": "execute_result"
    }
   ],
   "source": [
    "df.loc['1960-05-01']#extract exact value of a single date"
   ]
  },
  {
   "cell_type": "code",
   "execution_count": 58,
   "id": "8a9250ad",
   "metadata": {},
   "outputs": [
    {
     "data": {
      "image/png": "[encoded data removed]",
      "text/plain": [
       "<Figure size 432x288 with 1 Axes>"
      ]
     },
     "metadata": {
      "needs_background": "light"
     },
     "output_type": "display_data"
    }
   ],
   "source": [
    "df.plot()\n",
    "plt.show()"
   ]
  },
  {
   "cell_type": "code",
   "execution_count": 59,
   "id": "0194f93c",
   "metadata": {},
   "outputs": [
    {
     "ename": "AttributeError",
     "evalue": "'DataFrame' object has no attribute 'show'",
     "output_type": "error",
     "traceback": [
      "\u001b[1;31m---------------------------------------------------------------------------\u001b[0m",
      "\u001b[1;31mAttributeError\u001b[0m                            Traceback (most recent call last)",
      "\u001b[1;32m~\\AppData\\Local\\Temp/ipykernel_12064/1254785681.py\u001b[0m in \u001b[0;36m<module>\u001b[1;34m\u001b[0m\n\u001b[0;32m      2\u001b[0m \u001b[0mrcParams\u001b[0m\u001b[1;33m[\u001b[0m\u001b[1;34m'figure.figsize'\u001b[0m\u001b[1;33m]\u001b[0m\u001b[1;33m=\u001b[0m\u001b[1;36m12\u001b[0m\u001b[1;33m,\u001b[0m\u001b[1;36m8\u001b[0m\u001b[1;33m\u001b[0m\u001b[1;33m\u001b[0m\u001b[0m\n\u001b[0;32m      3\u001b[0m \u001b[0mdf\u001b[0m\u001b[1;33m.\u001b[0m\u001b[0mplot\u001b[0m\u001b[1;33m(\u001b[0m\u001b[1;33m)\u001b[0m\u001b[1;33m\u001b[0m\u001b[1;33m\u001b[0m\u001b[0m\n\u001b[1;32m----> 4\u001b[1;33m \u001b[0mdf\u001b[0m\u001b[1;33m.\u001b[0m\u001b[0mshow\u001b[0m\u001b[1;33m(\u001b[0m\u001b[1;33m)\u001b[0m\u001b[1;33m\u001b[0m\u001b[1;33m\u001b[0m\u001b[0m\n\u001b[0m",
      "\u001b[1;32m~\\anaconda3\\lib\\site-packages\\pandas\\core\\generic.py\u001b[0m in \u001b[0;36m__getattr__\u001b[1;34m(self, name)\u001b[0m\n\u001b[0;32m   5485\u001b[0m         ):\n\u001b[0;32m   5486\u001b[0m             \u001b[1;32mreturn\u001b[0m \u001b[0mself\u001b[0m\u001b[1;33m[\u001b[0m\u001b[0mname\u001b[0m\u001b[1;33m]\u001b[0m\u001b[1;33m\u001b[0m\u001b[1;33m\u001b[0m\u001b[0m\n\u001b[1;32m-> 5487\u001b[1;33m         \u001b[1;32mreturn\u001b[0m \u001b[0mobject\u001b[0m\u001b[1;33m.\u001b[0m\u001b[0m__getattribute__\u001b[0m\u001b[1;33m(\u001b[0m\u001b[0mself\u001b[0m\u001b[1;33m,\u001b[0m \u001b[0mname\u001b[0m\u001b[1;33m)\u001b[0m\u001b[1;33m\u001b[0m\u001b[1;33m\u001b[0m\u001b[0m\n\u001b[0m\u001b[0;32m   5488\u001b[0m \u001b[1;33m\u001b[0m\u001b[0m\n\u001b[0;32m   5489\u001b[0m     \u001b[1;32mdef\u001b[0m \u001b[0m__setattr__\u001b[0m\u001b[1;33m(\u001b[0m\u001b[0mself\u001b[0m\u001b[1;33m,\u001b[0m \u001b[0mname\u001b[0m\u001b[1;33m:\u001b[0m \u001b[0mstr\u001b[0m\u001b[1;33m,\u001b[0m \u001b[0mvalue\u001b[0m\u001b[1;33m)\u001b[0m \u001b[1;33m->\u001b[0m \u001b[1;32mNone\u001b[0m\u001b[1;33m:\u001b[0m\u001b[1;33m\u001b[0m\u001b[1;33m\u001b[0m\u001b[0m\n",
      "\u001b[1;31mAttributeError\u001b[0m: 'DataFrame' object has no attribute 'show'"
     ]
    },
    {
     "data": {
      "image/png": "[encoded data removed]",
      "text/plain": [
       "<Figure size 864x576 with 1 Axes>"
      ]
     },
     "metadata": {
      "needs_background": "light"
     },
     "output_type": "display_data"
    }
   ],
   "source": [
    "from pylab import rcParams\n",
    "rcParams['figure.figsize']=12,8\n",
    "df.plot()\n",
    "df.show()"
   ]
  },
  {
   "cell_type": "code",
   "execution_count": 60,
   "id": "d7a11a7d",
   "metadata": {},
   "outputs": [
    {
     "ename": "NameError",
     "evalue": "name 'seasonal_decompose' is not defined",
     "output_type": "error",
     "traceback": [
      "\u001b[1;31m---------------------------------------------------------------------------\u001b[0m",
      "\u001b[1;31mNameError\u001b[0m                                 Traceback (most recent call last)",
      "\u001b[1;32m~\\AppData\\Local\\Temp/ipykernel_12064/3534233108.py\u001b[0m in \u001b[0;36m<module>\u001b[1;34m\u001b[0m\n\u001b[1;32m----> 1\u001b[1;33m \u001b[0mdf_mul_decompose\u001b[0m\u001b[1;33m=\u001b[0m\u001b[0mseasonal_decompose\u001b[0m\u001b[1;33m(\u001b[0m\u001b[0mdf\u001b[0m\u001b[1;33m,\u001b[0m\u001b[0mmodel\u001b[0m\u001b[1;33m=\u001b[0m\u001b[1;34m\"multiplicative\"\u001b[0m\u001b[1;33m)\u001b[0m\u001b[1;33m\u001b[0m\u001b[1;33m\u001b[0m\u001b[0m\n\u001b[0m\u001b[0;32m      2\u001b[0m \u001b[0mdf_mul_decompose\u001b[0m\u001b[1;33m.\u001b[0m\u001b[0mplot\u001b[0m\u001b[1;33m(\u001b[0m\u001b[1;33m)\u001b[0m\u001b[1;33m\u001b[0m\u001b[1;33m\u001b[0m\u001b[0m\n\u001b[0;32m      3\u001b[0m \u001b[0mplt\u001b[0m\u001b[1;33m.\u001b[0m\u001b[0mshow\u001b[0m\u001b[1;33m(\u001b[0m\u001b[1;33m)\u001b[0m\u001b[1;33m\u001b[0m\u001b[1;33m\u001b[0m\u001b[0m\n",
      "\u001b[1;31mNameError\u001b[0m: name 'seasonal_decompose' is not defined"
     ]
    }
   ],
   "source": [
    "df_mul_decompose=seasonal_decompose(df,model=\"multiplicative\")\n",
    "df_mul_decompose.plot()\n",
    "plt.show()"
   ]
  },
  {
   "cell_type": "code",
   "execution_count": 61,
   "id": "67342a57",
   "metadata": {},
   "outputs": [],
   "source": [
    "df_log=df.copy()"
   ]
  },
  {
   "cell_type": "code",
   "execution_count": 62,
   "id": "da9e5526",
   "metadata": {},
   "outputs": [],
   "source": [
    "df_log['Passengers']=np.log(df)"
   ]
  },
  {
   "cell_type": "code",
   "execution_count": 63,
   "id": "db915b2b",
   "metadata": {},
   "outputs": [
    {
     "data": {
      "text/plain": [
       "Month\n",
       "1949-01-01    4.718499\n",
       "1949-02-01    4.770685\n",
       "1949-03-01    4.882802\n",
       "1949-04-01    4.859812\n",
       "1949-05-01    4.795791\n",
       "                ...   \n",
       "1960-08-01    6.406880\n",
       "1960-09-01    6.230481\n",
       "1960-10-01    6.133398\n",
       "1960-11-01    5.966147\n",
       "1960-12-01    6.068426\n",
       "Name: Passengers, Length: 144, dtype: float64"
      ]
     },
     "execution_count": 63,
     "metadata": {},
     "output_type": "execute_result"
    }
   ],
   "source": [
    "df_log.Passengers"
   ]
  },
  {
   "cell_type": "code",
   "execution_count": 64,
   "id": "eb431b55",
   "metadata": {},
   "outputs": [
    {
     "data": {
      "image/png": "[encoded data removed]",
      "text/plain": [
       "<Figure size 864x576 with 1 Axes>"
      ]
     },
     "metadata": {
      "needs_background": "light"
     },
     "output_type": "display_data"
    }
   ],
   "source": [
    "df_log.plot()\n",
    "plt.show()"
   ]
  },
  {
   "cell_type": "code",
   "execution_count": 65,
   "id": "5e34b556",
   "metadata": {},
   "outputs": [
    {
     "data": {
      "image/png": "[encoded data removed]",
      "text/plain": [
       "<Figure size 864x576 with 1 Axes>"
      ]
     },
     "metadata": {
      "needs_background": "light"
     },
     "output_type": "display_data"
    }
   ],
   "source": [
    "plt.subplot(2,1,1)\n",
    "plt.title(\"original time series\")\n",
    "plt.plot(df)\n",
    "\n",
    "plt.subplot(2,1,1)\n",
    "plt.title(\"Log transformed Time series\")\n",
    "plt.plot(df_log)\n",
    "plt.tight_layout()\n"
   ]
  },
  {
   "cell_type": "code",
   "execution_count": 3,
   "id": "27c9932b",
   "metadata": {},
   "outputs": [
    {
     "ename": "NameError",
     "evalue": "name 'medcouple' is not defined",
     "output_type": "error",
     "traceback": [
      "\u001b[1;31m---------------------------------------------------------------------------\u001b[0m",
      "\u001b[1;31mNameError\u001b[0m                                 Traceback (most recent call last)",
      "\u001b[1;32m~\\AppData\\Local\\Temp/ipykernel_12620/3266692910.py\u001b[0m in \u001b[0;36m<module>\u001b[1;34m\u001b[0m\n\u001b[0;32m      2\u001b[0m \u001b[1;32mfrom\u001b[0m \u001b[0mstatsmodels\u001b[0m\u001b[1;33m.\u001b[0m\u001b[0mstats\u001b[0m\u001b[1;33m.\u001b[0m\u001b[0mstattools\u001b[0m \u001b[1;32mimport\u001b[0m \u001b[0mrobust_skewness\u001b[0m\u001b[1;33m\u001b[0m\u001b[1;33m\u001b[0m\u001b[0m\n\u001b[0;32m      3\u001b[0m \u001b[0mx\u001b[0m\u001b[1;33m=\u001b[0m\u001b[0mnp\u001b[0m\u001b[1;33m.\u001b[0m\u001b[0marray\u001b[0m\u001b[1;33m(\u001b[0m\u001b[1;33m[\u001b[0m\u001b[1;36m2\u001b[0m\u001b[1;33m,\u001b[0m\u001b[1;36m4\u001b[0m\u001b[1;33m,\u001b[0m\u001b[1;36m5\u001b[0m\u001b[1;33m,\u001b[0m\u001b[1;36m7\u001b[0m\u001b[1;33m,\u001b[0m\u001b[1;36m8\u001b[0m\u001b[1;33m,\u001b[0m\u001b[1;36m9\u001b[0m\u001b[1;33m,\u001b[0m\u001b[1;36m11\u001b[0m\u001b[1;33m,\u001b[0m\u001b[1;36m15\u001b[0m\u001b[1;33m]\u001b[0m\u001b[1;33m)\u001b[0m\u001b[1;33m\u001b[0m\u001b[1;33m\u001b[0m\u001b[0m\n\u001b[1;32m----> 4\u001b[1;33m \u001b[0mskewness\u001b[0m\u001b[1;33m=\u001b[0m\u001b[0mmedcouple\u001b[0m\u001b[1;33m(\u001b[0m\u001b[0mx\u001b[0m\u001b[1;33m)\u001b[0m\u001b[1;33m\u001b[0m\u001b[1;33m\u001b[0m\u001b[0m\n\u001b[0m",
      "\u001b[1;31mNameError\u001b[0m: name 'medcouple' is not defined"
     ]
    }
   ],
   "source": [
    "#skewness\n",
    "from statsmodels.stats.stattools import robust_skewness\n",
    "x=np.array([2,4,5,7,8,9,11,15])\n",
    "skewness=medcouple(x)"
   ]
  },
  {
   "cell_type": "code",
   "execution_count": null,
   "id": "e4ceabf5",
   "metadata": {},
   "outputs": [],
   "source": [
    "#kurtosis\n",
    "from statsmodels.stats.stattools import robust_kurtosis\n",
    "x=np.array([2,4,5,7,8,9,11,15])\n",
    "kurtosis=robust_kurtosis(x)\n",
    "kurtosis"
   ]
  },
  {
   "cell_type": "code",
   "execution_count": null,
   "id": "7c46bbc3",
   "metadata": {},
   "outputs": [],
   "source": [
    "#covariance\n",
    "meanx=sum(x)/float(len(x))\n",
    "meany-sum(y)/float(len(y))\n",
    "xpart=[i -meanx for i in x]\n",
    "ypart=[i -meany for i in y]\n",
    "numerator=sum([xpart[i]*ypart[i] for i in range(len(xpart))])\n",
    "denominator=len(x)-1\n",
    "covariance=numerator/denominator\n",
    "corealation=covariance(x,y)/(standard_deviation(x)*standard_deviation(y))"
   ]
  },
  {
   "cell_type": "code",
   "execution_count": 10,
   "id": "21db2673",
   "metadata": {},
   "outputs": [
    {
     "data": {
      "text/plain": [
       "45.36363636363637"
      ]
     },
     "execution_count": 10,
     "metadata": {},
     "output_type": "execute_result"
    }
   ],
   "source": [
    "ages=[23,24,32,45,12,43,32,67,45,56,120]\n",
    "np.mean(ages)"
   ]
  },
  {
   "cell_type": "code",
   "execution_count": 11,
   "id": "dbb1fb16",
   "metadata": {},
   "outputs": [
    {
     "data": {
      "text/plain": [
       "43.0"
      ]
     },
     "execution_count": 11,
     "metadata": {},
     "output_type": "execute_result"
    }
   ],
   "source": [
    "np.median(ages)"
   ]
  },
  {
   "cell_type": "code",
   "execution_count": 12,
   "id": "ee649cb1",
   "metadata": {},
   "outputs": [
    {
     "data": {
      "text/plain": [
       "32"
      ]
     },
     "execution_count": 12,
     "metadata": {},
     "output_type": "execute_result"
    }
   ],
   "source": [
    "statistics.mode(ages)"
   ]
  },
  {
   "cell_type": "code",
   "execution_count": 13,
   "id": "6d6c3de6",
   "metadata": {},
   "outputs": [
    {
     "name": "stderr",
     "output_type": "stream",
     "text": [
      "C:\\Users\\USER\\anaconda3\\lib\\site-packages\\seaborn\\_decorators.py:36: FutureWarning: Pass the following variable as a keyword arg: x. From version 0.12, the only valid positional argument will be `data`, and passing other arguments without an explicit keyword will result in an error or misinterpretation.\n",
      "  warnings.warn(\n"
     ]
    },
    {
     "data": {
      "text/plain": [
       "<AxesSubplot:>"
      ]
     },
     "execution_count": 13,
     "metadata": {},
     "output_type": "execute_result"
    },
    {
     "data": {
      "image/png": "[encoded data removed]",
      "text/plain": [
       "<Figure size 432x288 with 1 Axes>"
      ]
     },
     "metadata": {
      "needs_background": "light"
     },
     "output_type": "display_data"
    }
   ],
   "source": [
    "import seaborn as sns\n",
    "sns.boxplot(ages)"
   ]
  },
  {
   "cell_type": "code",
   "execution_count": 14,
   "id": "a0e7a82a",
   "metadata": {},
   "outputs": [
    {
     "name": "stdout",
     "output_type": "stream",
     "text": [
      "q1 is28.0 and q3 is 50.5\n"
     ]
    }
   ],
   "source": [
    "#number Summery\n",
    "q1,q3=np.percentile(ages,[25,75])\n",
    "print(f\"q1 is{q1} and q3 is {q3}\")"
   ]
  },
  {
   "cell_type": "code",
   "execution_count": 15,
   "id": "a6096cd5",
   "metadata": {},
   "outputs": [
    {
     "name": "stdout",
     "output_type": "stream",
     "text": [
      "-5.75 84.25\n"
     ]
    }
   ],
   "source": [
    "IQR=q3-q1\n",
    "lower_fence=q1-1.5*(IQR)\n",
    "higher_fence=q3+1.5*(IQR)\n",
    "print(f\"{lower_fence} {higher_fence}\")"
   ]
  },
  {
   "cell_type": "code",
   "execution_count": 16,
   "id": "ccda328d",
   "metadata": {},
   "outputs": [
    {
     "data": {
      "text/plain": [
       "858.4545454545454"
      ]
     },
     "execution_count": 16,
     "metadata": {},
     "output_type": "execute_result"
    }
   ],
   "source": [
    "statistics.variance(ages)"
   ]
  },
  {
   "cell_type": "code",
   "execution_count": 17,
   "id": "7322fd0a",
   "metadata": {},
   "outputs": [
    {
     "data": {
      "text/plain": [
       "780.4132231404957"
      ]
     },
     "execution_count": 17,
     "metadata": {},
     "output_type": "execute_result"
    }
   ],
   "source": [
    "np.var(ages,axis=0)"
   ]
  },
  {
   "cell_type": "code",
   "execution_count": 19,
   "id": "15663a0b",
   "metadata": {},
   "outputs": [
    {
     "data": {
      "text/plain": [
       "780.4132231404958"
      ]
     },
     "execution_count": 19,
     "metadata": {},
     "output_type": "execute_result"
    }
   ],
   "source": [
    "statistics.pvariance(ages)#population variance"
   ]
  },
  {
   "cell_type": "code",
   "execution_count": 21,
   "id": "89fd07b1",
   "metadata": {},
   "outputs": [
    {
     "data": {
      "text/plain": [
       "27.93587698892762"
      ]
     },
     "execution_count": 21,
     "metadata": {},
     "output_type": "execute_result"
    }
   ],
   "source": [
    "import math\n",
    "math.sqrt(statistics.pvariance(ages))#std"
   ]
  },
  {
   "cell_type": "code",
   "execution_count": 22,
   "id": "88fa8f6f",
   "metadata": {},
   "outputs": [
    {
     "data": {
      "text/plain": [
       "<AxesSubplot:ylabel='Count'>"
      ]
     },
     "execution_count": 22,
     "metadata": {},
     "output_type": "execute_result"
    },
    {
     "data": {
      "image/png": "[encoded data removed]",
      "text/plain": [
       "<Figure size 432x288 with 1 Axes>"
      ]
     },
     "metadata": {
      "needs_background": "light"
     },
     "output_type": "display_data"
    }
   ],
   "source": [
    "#histogram\n",
    "sns.histplot(ages)"
   ]
  },
  {
   "cell_type": "code",
   "execution_count": 23,
   "id": "6f2fad4b",
   "metadata": {},
   "outputs": [
    {
     "data": {
      "text/plain": [
       "<AxesSubplot:ylabel='Count'>"
      ]
     },
     "execution_count": 23,
     "metadata": {},
     "output_type": "execute_result"
    },
    {
     "data": {
      "image/png": "[encoded data removed]",
      "text/plain": [
       "<Figure size 432x288 with 1 Axes>"
      ]
     },
     "metadata": {
      "needs_background": "light"
     },
     "output_type": "display_data"
    }
   ],
   "source": [
    "sns.histplot(ages,kde=True)#kde=kernel density function"
   ]
  },
  {
   "cell_type": "code",
   "execution_count": 27,
   "id": "f7b1d256",
   "metadata": {},
   "outputs": [
    {
     "data": {
      "text/html": [
       "<div>\n",
       "<style scoped>\n",
       "    .dataframe tbody tr th:only-of-type {\n",
       "        vertical-align: middle;\n",
       "    }\n",
       "\n",
       "    .dataframe tbody tr th {\n",
       "        vertical-align: top;\n",
       "    }\n",
       "\n",
       "    .dataframe thead th {\n",
       "        text-align: right;\n",
       "    }\n",
       "</style>\n",
       "<table border=\"1\" class=\"dataframe\">\n",
       "  <thead>\n",
       "    <tr style=\"text-align: right;\">\n",
       "      <th></th>\n",
       "      <th>sepal_length</th>\n",
       "      <th>sepal_width</th>\n",
       "      <th>petal_length</th>\n",
       "      <th>petal_width</th>\n",
       "      <th>species</th>\n",
       "    </tr>\n",
       "  </thead>\n",
       "  <tbody>\n",
       "    <tr>\n",
       "      <th>0</th>\n",
       "      <td>5.1</td>\n",
       "      <td>3.5</td>\n",
       "      <td>1.4</td>\n",
       "      <td>0.2</td>\n",
       "      <td>Iris-setosa</td>\n",
       "    </tr>\n",
       "    <tr>\n",
       "      <th>1</th>\n",
       "      <td>4.9</td>\n",
       "      <td>3.0</td>\n",
       "      <td>1.4</td>\n",
       "      <td>0.2</td>\n",
       "      <td>Iris-setosa</td>\n",
       "    </tr>\n",
       "    <tr>\n",
       "      <th>2</th>\n",
       "      <td>4.7</td>\n",
       "      <td>3.2</td>\n",
       "      <td>1.3</td>\n",
       "      <td>0.2</td>\n",
       "      <td>Iris-setosa</td>\n",
       "    </tr>\n",
       "    <tr>\n",
       "      <th>3</th>\n",
       "      <td>4.6</td>\n",
       "      <td>3.1</td>\n",
       "      <td>1.5</td>\n",
       "      <td>0.2</td>\n",
       "      <td>Iris-setosa</td>\n",
       "    </tr>\n",
       "    <tr>\n",
       "      <th>4</th>\n",
       "      <td>5.0</td>\n",
       "      <td>3.6</td>\n",
       "      <td>1.4</td>\n",
       "      <td>0.2</td>\n",
       "      <td>Iris-setosa</td>\n",
       "    </tr>\n",
       "  </tbody>\n",
       "</table>\n",
       "</div>"
      ],
      "text/plain": [
       "   sepal_length  sepal_width  petal_length  petal_width      species\n",
       "0           5.1          3.5           1.4          0.2  Iris-setosa\n",
       "1           4.9          3.0           1.4          0.2  Iris-setosa\n",
       "2           4.7          3.2           1.3          0.2  Iris-setosa\n",
       "3           4.6          3.1           1.5          0.2  Iris-setosa\n",
       "4           5.0          3.6           1.4          0.2  Iris-setosa"
      ]
     },
     "execution_count": 27,
     "metadata": {},
     "output_type": "execute_result"
    }
   ],
   "source": [
    "df=pd.read_excel(\"E:\\Datasets\\iris.xlsx\")\n",
    "df.head()"
   ]
  },
  {
   "cell_type": "code",
   "execution_count": 30,
   "id": "b09c2843",
   "metadata": {},
   "outputs": [
    {
     "data": {
      "text/plain": [
       "<AxesSubplot:xlabel='petal_length', ylabel='Count'>"
      ]
     },
     "execution_count": 30,
     "metadata": {},
     "output_type": "execute_result"
    },
    {
     "data": {
      "image/png": "[encoded data removed]",
      "text/plain": [
       "<Figure size 432x288 with 1 Axes>"
      ]
     },
     "metadata": {
      "needs_background": "light"
     },
     "output_type": "display_data"
    }
   ],
   "source": [
    "sns.histplot(df['petal_length'],kde=True)"
   ]
  },
  {
   "cell_type": "code",
   "execution_count": 31,
   "id": "72aa51e3",
   "metadata": {},
   "outputs": [
    {
     "data": {
      "text/plain": [
       "<AxesSubplot:xlabel='petal_width', ylabel='Count'>"
      ]
     },
     "execution_count": 31,
     "metadata": {},
     "output_type": "execute_result"
    },
    {
     "data": {
      "image/png": "[encoded data removed]",
      "text/plain": [
       "<Figure size 432x288 with 1 Axes>"
      ]
     },
     "metadata": {
      "needs_background": "light"
     },
     "output_type": "display_data"
    }
   ],
   "source": [
    "sns.histplot(df['petal_width'],kde=True)"
   ]
  },
  {
   "cell_type": "code",
   "execution_count": 32,
   "id": "e091c331",
   "metadata": {},
   "outputs": [
    {
     "data": {
      "text/plain": [
       "<AxesSubplot:xlabel='sepal_length', ylabel='Count'>"
      ]
     },
     "execution_count": 32,
     "metadata": {},
     "output_type": "execute_result"
    },
    {
     "data": {
      "image/png": "[encoded data removed]",
      "text/plain": [
       "<Figure size 432x288 with 1 Axes>"
      ]
     },
     "metadata": {
      "needs_background": "light"
     },
     "output_type": "display_data"
    }
   ],
   "source": [
    "sns.histplot(df['sepal_length'],kde=True)"
   ]
  },
  {
   "cell_type": "code",
   "execution_count": 33,
   "id": "c299ba3c",
   "metadata": {},
   "outputs": [
    {
     "data": {
      "text/plain": [
       "<AxesSubplot:xlabel='sepal_width', ylabel='Count'>"
      ]
     },
     "execution_count": 33,
     "metadata": {},
     "output_type": "execute_result"
    },
    {
     "data": {
      "image/png": "[encoded data removed]",
      "text/plain": [
       "<Figure size 432x288 with 1 Axes>"
      ]
     },
     "metadata": {
      "needs_background": "light"
     },
     "output_type": "display_data"
    }
   ],
   "source": [
    "sns.histplot(df['sepal_width'],kde=True)"
   ]
  },
  {
   "cell_type": "code",
   "execution_count": 34,
   "id": "e5ca1f77",
   "metadata": {},
   "outputs": [],
   "source": [
    "#normal distribution with help of numpy\n",
    "s=np.random.normal(0.5,0.2,1000)"
   ]
  },
  {
   "cell_type": "code",
   "execution_count": null,
   "id": "c9e4cfbc",
   "metadata": {},
   "outputs": [],
   "source": []
  },
  {
   "cell_type": "code",
   "execution_count": 35,
   "id": "8bb3c986",
   "metadata": {},
   "outputs": [
    {
     "data": {
      "text/plain": [
       "array([ 2.72814887e-01,  4.72660235e-01,  3.73662063e-01,  2.28360838e-01,\n",
       "        8.61002113e-01,  8.22184101e-01,  4.51630958e-01,  4.31060664e-01,\n",
       "        2.95223453e-01,  3.10264802e-01,  6.35941502e-01,  2.91277478e-01,\n",
       "        4.50634119e-01,  6.07967558e-01,  5.60974334e-01,  5.13325665e-01,\n",
       "        4.23773401e-01,  4.82937886e-01,  3.66880074e-01,  8.34232568e-01,\n",
       "        4.83494495e-01,  3.51745184e-01,  6.21943827e-01,  4.82100042e-01,\n",
       "        6.15530516e-01,  3.98134561e-01,  3.06976817e-01,  7.33034558e-01,\n",
       "        3.97946832e-01,  6.35505022e-01,  5.49496049e-01,  6.61412012e-01,\n",
       "        8.76881595e-01,  1.21131432e-01,  3.98467400e-01,  2.86164050e-01,\n",
       "        4.35551333e-01,  3.84996992e-01,  7.50356481e-01,  5.69235273e-01,\n",
       "        5.33277489e-01,  3.39791741e-01,  6.49431377e-01,  5.69120074e-01,\n",
       "        6.74059058e-01,  5.47309615e-01,  4.40043453e-01,  4.73536030e-01,\n",
       "        3.50955721e-01,  5.65211685e-01,  3.53922679e-01,  6.41485153e-01,\n",
       "        4.36153454e-01,  5.08396864e-01,  3.98498932e-01,  3.64242852e-01,\n",
       "        7.26680998e-01,  5.18067495e-01,  7.29621300e-01,  1.35895100e-01,\n",
       "        4.37941611e-01,  2.86721666e-01,  5.43975145e-01,  6.68236174e-01,\n",
       "        3.25567560e-01,  8.29980006e-01,  7.47943920e-01,  7.76954174e-01,\n",
       "        7.43355110e-01,  4.84987958e-01,  1.01057321e+00,  5.28821070e-01,\n",
       "        5.82533989e-01,  6.89569255e-01,  8.11966367e-01,  4.28916915e-01,\n",
       "        2.36794156e-01,  3.40693223e-01,  8.02128133e-01,  7.52339004e-01,\n",
       "        3.35958222e-01,  4.40164012e-01,  5.99193661e-01,  6.16984627e-01,\n",
       "        6.50158135e-01,  5.88556253e-01,  4.61307739e-01,  4.63906453e-01,\n",
       "        4.15564068e-01,  4.57775955e-01,  7.05204648e-01,  3.34301638e-01,\n",
       "        4.22222011e-01,  3.62772252e-01,  6.48767803e-01,  2.53438980e-01,\n",
       "        4.04502198e-01,  2.90720865e-01,  6.22203546e-01,  4.41667265e-01,\n",
       "        3.43205818e-01,  5.78121230e-01,  3.39755376e-01,  3.47764103e-01,\n",
       "        6.85991724e-01,  6.21304640e-01,  7.04875807e-01,  7.59207421e-01,\n",
       "        2.20709444e-01,  3.29509072e-01,  6.43197898e-01,  6.34820239e-01,\n",
       "        7.92193063e-01,  6.04722241e-01,  5.56836556e-01,  3.26532567e-01,\n",
       "        3.55837540e-01,  1.48702941e-01,  7.64845580e-01,  7.30449624e-01,\n",
       "        5.06068341e-01,  7.33258860e-01,  4.15145070e-01,  6.83924305e-01,\n",
       "        4.59264567e-01,  8.32841903e-01,  7.85280902e-04,  1.95874915e-01,\n",
       "        5.32428552e-01,  4.62080151e-01,  8.16558585e-01,  8.74205533e-01,\n",
       "        7.34472213e-01,  2.64255888e-01,  4.87066067e-01,  6.93140351e-01,\n",
       "        2.13125371e-01,  3.52380202e-01,  4.53511033e-01,  2.55739916e-01,\n",
       "        3.49637802e-01,  2.48811674e-01,  4.40373123e-01,  5.66386750e-01,\n",
       "        3.61283975e-02,  6.21234163e-01,  4.98828967e-01,  8.05471140e-01,\n",
       "        3.52914749e-01,  6.50621855e-01,  5.28130177e-01,  5.68041691e-01,\n",
       "        3.85668944e-01,  1.87957859e-01,  4.45558851e-01,  4.81572311e-01,\n",
       "        8.11547276e-01,  2.80135212e-01,  4.88935134e-01,  5.22293040e-01,\n",
       "        2.79521480e-01,  5.19251422e-01,  6.27929469e-01,  4.52788549e-01,\n",
       "        6.28248268e-01,  5.40509892e-01,  8.88692405e-01,  7.33425643e-01,\n",
       "        5.57968211e-01,  9.75650046e-01,  5.38479870e-01,  6.52223007e-01,\n",
       "        3.38648299e-01,  2.30125326e-01,  6.15932732e-01,  8.38570774e-01,\n",
       "        5.02035490e-01,  2.36035058e-01,  2.71917080e-01,  8.21729906e-01,\n",
       "        4.78115061e-01,  4.58522480e-02,  6.45615094e-01,  3.77495712e-01,\n",
       "        6.01142009e-01,  5.67736393e-01,  3.92689974e-01,  3.68434079e-01,\n",
       "        3.30594264e-01,  3.01293808e-01,  5.28946276e-01,  5.52779239e-01,\n",
       "        5.41002183e-01,  2.52119576e-01,  5.17536982e-01,  3.77954441e-01,\n",
       "        9.19366782e-01,  9.25286380e-01,  4.78769237e-01,  5.36553388e-01,\n",
       "        9.60468819e-01,  2.66588924e-01,  8.67283683e-01,  2.69836637e-01,\n",
       "        5.18522190e-01,  7.90891496e-01,  4.61853357e-01,  7.43179946e-01,\n",
       "        6.16153348e-01,  5.95597513e-01,  6.87759392e-01,  3.69997647e-01,\n",
       "        4.43961301e-01,  4.06068789e-01,  6.96724684e-01,  3.37147754e-01,\n",
       "        5.42004177e-01,  4.46083027e-01,  1.97571571e-01,  4.00672876e-01,\n",
       "        5.17790645e-01,  6.55199406e-01,  3.64622663e-01,  6.53918947e-01,\n",
       "        3.09625018e-01,  2.88899676e-01,  1.03363182e+00,  3.46729854e-01,\n",
       "        5.50001109e-01,  5.40808343e-01,  7.58320460e-01,  1.25720773e-01,\n",
       "        4.81298308e-01,  4.00872159e-01,  3.11485955e-01,  4.73029042e-01,\n",
       "        6.76087754e-01,  4.19883742e-01,  5.28974809e-01,  6.73588002e-01,\n",
       "        5.39262505e-01,  5.17598397e-01,  1.75569833e-01,  3.91352699e-01,\n",
       "        3.54982395e-01,  7.81065361e-01,  2.35176217e-01,  5.47034967e-01,\n",
       "        6.76993078e-01,  5.47073677e-01,  6.79320593e-01,  5.34486064e-01,\n",
       "        5.27640727e-01,  3.18318130e-01,  1.98531971e-01,  3.39829368e-01,\n",
       "        4.09479276e-01,  1.63284503e-01,  5.70756672e-01,  4.41429855e-01,\n",
       "        8.96245527e-01,  3.62676423e-01,  7.51039859e-01,  4.23261070e-01,\n",
       "        4.71971687e-01,  4.75975807e-01,  8.49600641e-01,  4.19592306e-01,\n",
       "        6.25965926e-01,  4.53941093e-01,  4.52981641e-01,  1.65540670e-01,\n",
       "        4.14760089e-01,  5.75913378e-01,  7.63443897e-01,  2.13655878e-01,\n",
       "        5.57704948e-01,  2.50509865e-01,  7.55447703e-01,  7.56723871e-01,\n",
       "        7.48549610e-01,  3.83866057e-01,  5.21034379e-01,  1.49854229e-01,\n",
       "        5.88249929e-01,  2.81739538e-01,  3.00590784e-01,  7.67616811e-01,\n",
       "        4.90304036e-01,  3.85983522e-01,  3.68416877e-01,  5.14484580e-01,\n",
       "        3.16585009e-01,  2.82121450e-01,  7.51922948e-01,  6.39519200e-01,\n",
       "        5.06336219e-01,  5.47623101e-01,  1.93341930e-01,  2.20900953e-01,\n",
       "        6.40036639e-02,  6.43947128e-01,  3.84049589e-01,  6.23788596e-01,\n",
       "        6.74240994e-01,  6.25700274e-01,  4.71562435e-01,  3.80270563e-01,\n",
       "        2.93178095e-01,  6.29581631e-01,  3.97315038e-01,  5.95473059e-01,\n",
       "        1.40009267e-01,  4.71458184e-01,  4.86455322e-01,  2.56070394e-01,\n",
       "        6.97746152e-01,  2.64645907e-01,  4.52613976e-01,  4.03114523e-01,\n",
       "        5.04677087e-01,  4.55922752e-01,  6.54643907e-01,  5.96746692e-01,\n",
       "        8.26377911e-01,  5.39635960e-01,  6.94118860e-01,  5.80291631e-01,\n",
       "        6.88950336e-01,  8.21854799e-01,  4.67525325e-01,  9.22953246e-01,\n",
       "        6.07915048e-01,  4.81202034e-01,  6.20447821e-01,  6.41687350e-01,\n",
       "        5.11000240e-01,  4.29026217e-01,  4.73807605e-01,  6.21672676e-01,\n",
       "        2.65781086e-02,  5.68095742e-01,  6.08745624e-01,  4.51193139e-01,\n",
       "        6.70205046e-01,  8.61847053e-01,  3.26551515e-01,  5.04369830e-01,\n",
       "        6.27579503e-01,  5.39828859e-01,  1.51598559e-01,  7.80654086e-01,\n",
       "        7.11766943e-01,  9.34011325e-01,  3.66013971e-01,  5.85732831e-01,\n",
       "        4.23494479e-01,  3.66349448e-01,  6.00159624e-01,  8.04402023e-01,\n",
       "        8.28349337e-01,  4.87802539e-01,  3.22133811e-01,  3.55060472e-01,\n",
       "        5.40419180e-01,  2.22140064e-01,  7.16239542e-01,  7.24173805e-01,\n",
       "        6.17097258e-01,  5.44529148e-01,  1.84203059e-01,  4.90449607e-01,\n",
       "        3.90534901e-01,  5.74156715e-01,  7.84825994e-01,  5.25352321e-01,\n",
       "        5.62680426e-01,  3.18087314e-01,  3.52919302e-01,  7.71052752e-01,\n",
       "        5.13692603e-01,  5.57562747e-01,  6.93110718e-01,  6.88577140e-01,\n",
       "        5.33613852e-01,  5.39975703e-01,  6.67629434e-01,  4.98455505e-01,\n",
       "        3.15158817e-01,  3.88524638e-01,  8.41684526e-01,  8.07406585e-01,\n",
       "        1.31889312e-01,  5.55655665e-01,  2.93458718e-01,  4.22757984e-02,\n",
       "        3.92599884e-01,  7.32604693e-01,  6.27035227e-01,  5.37518438e-01,\n",
       "        3.46308655e-01,  2.15414470e-01,  5.09676701e-01,  2.95318979e-01,\n",
       "        4.48801268e-01,  5.72036415e-01,  3.08538309e-01,  8.79293779e-01,\n",
       "        8.89404677e-01,  6.64164477e-01,  2.29143662e-01,  8.41577157e-01,\n",
       "        4.56156045e-01,  5.71745034e-01,  2.65098759e-01,  4.15636053e-01,\n",
       "        3.64644778e-01,  5.57022214e-01,  4.92591878e-01,  4.89726055e-01,\n",
       "        3.61459248e-01,  3.14125009e-01,  4.95289319e-01,  5.55726553e-01,\n",
       "        3.91833221e-01,  4.10396612e-01,  3.80934370e-01,  6.57751324e-01,\n",
       "        7.22858670e-01,  6.05653779e-01,  3.69085574e-01,  4.06102471e-01,\n",
       "        6.86314750e-01,  5.69428090e-01,  3.95868622e-01,  3.35430391e-01,\n",
       "        6.45430844e-01,  6.94029096e-01,  4.30702149e-01,  3.40764370e-01,\n",
       "        4.85438158e-01,  6.59515286e-01,  4.31747344e-01,  4.13889932e-01,\n",
       "        3.68804897e-01,  1.05983484e+00,  5.93002598e-01,  6.11941874e-01,\n",
       "        6.50657636e-01,  3.59236395e-01,  5.88445317e-01,  8.42003835e-02,\n",
       "        4.03907795e-01,  7.58081699e-01,  4.90609811e-01,  7.01836415e-01,\n",
       "        4.61337255e-01,  3.69929040e-01,  5.35757365e-01,  5.67218099e-01,\n",
       "        7.43131184e-01,  3.50158786e-01,  4.93781597e-01,  5.98311201e-01,\n",
       "        2.27110651e-01,  5.91865002e-01,  3.54539475e-01,  4.15506509e-01,\n",
       "        5.42086291e-01,  7.03733004e-01,  4.51115747e-01,  4.88687054e-01,\n",
       "        3.03607559e-01,  5.94250552e-01,  4.04958216e-01,  4.65417932e-01,\n",
       "        3.67991325e-01,  7.47265023e-01,  9.64566094e-02,  6.60299064e-01,\n",
       "        5.90026146e-01,  6.30777553e-01,  5.82865771e-01,  3.96427508e-01,\n",
       "        4.65722965e-01,  3.15500101e-01,  3.72696841e-01,  4.75791066e-01,\n",
       "        7.05495417e-01,  5.80402622e-01,  3.74024760e-01,  4.85358437e-01,\n",
       "        5.29089099e-01,  6.48594398e-01,  3.76293463e-01,  5.81459400e-01,\n",
       "        5.84612932e-01,  2.05807517e-01,  5.27658655e-01,  5.33802739e-01,\n",
       "        6.96627545e-01,  5.60325122e-01,  2.99942046e-01,  5.46732315e-01,\n",
       "        4.49799336e-01,  9.30298730e-01,  3.05393222e-01,  3.83801784e-01,\n",
       "        7.64856067e-01,  5.84098365e-01,  4.51933448e-01,  3.98358969e-01,\n",
       "        4.54365660e-01,  3.59942820e-01,  5.40565019e-01,  1.94790772e-01,\n",
       "        2.83836383e-01,  3.82059900e-01,  6.73332381e-01,  4.65668750e-01,\n",
       "        6.31479426e-01,  4.65082025e-01,  5.77809386e-01,  7.64420970e-01,\n",
       "        4.09477385e-01,  6.70000677e-01,  5.46581972e-01,  2.91245710e-01,\n",
       "        5.89664724e-01,  4.70316818e-01,  5.53067959e-01,  5.13391411e-01,\n",
       "        5.54422956e-01,  3.07725749e-01,  8.80416977e-01,  9.97164291e-01,\n",
       "        5.63674890e-01,  6.29185179e-01,  6.83658711e-01,  7.97380976e-01,\n",
       "        9.57449594e-01,  3.25261848e-01,  5.76223244e-01,  5.62093575e-01,\n",
       "        1.40476122e-01,  4.07811991e-01,  3.10887570e-01,  5.04631349e-01,\n",
       "        3.36785573e-01,  4.65644837e-01, -3.93084657e-03,  5.70357527e-01,\n",
       "        5.84253482e-01,  4.66562999e-01,  5.70427088e-01,  5.02818991e-01,\n",
       "        4.26661413e-01,  7.40192140e-01,  3.40344020e-01,  8.96037517e-01,\n",
       "        7.40592346e-01,  6.36229061e-01,  4.09560172e-01,  7.42984277e-01,\n",
       "        2.84403070e-01,  1.42185300e-01,  5.75924709e-01,  3.32819656e-01,\n",
       "        5.98314983e-01,  5.62907122e-01,  6.09119804e-01,  6.04292256e-01,\n",
       "        6.37419013e-01,  7.03518201e-01,  3.40332875e-01,  6.56872365e-01,\n",
       "        3.62424071e-01,  6.99087354e-01,  4.73758844e-01,  5.56758744e-01,\n",
       "        7.50727888e-01,  2.27413554e-01,  6.83775773e-01,  4.56184070e-01,\n",
       "        3.73673062e-01,  4.10999182e-01,  4.26886769e-01,  5.63687331e-01,\n",
       "        6.07290939e-01,  3.14269113e-01,  5.75630102e-01,  2.76355756e-01,\n",
       "        3.89954053e-01,  5.84386864e-01,  3.19245138e-01,  5.27191613e-01,\n",
       "        3.16015048e-01,  3.00666664e-01,  8.14861733e-01,  2.63109172e-01,\n",
       "        7.20976021e-01,  6.46279646e-01,  6.42815064e-01,  4.51001466e-01,\n",
       "        5.05939797e-01,  1.78035713e-01,  1.61921592e-01,  3.64219008e-01,\n",
       "        3.97982549e-01,  4.97258410e-01,  1.57807013e-01,  5.59475787e-01,\n",
       "        6.95805130e-01,  5.60421101e-01,  1.89313225e-01,  3.46488753e-01,\n",
       "        3.77083600e-01,  5.05999930e-01,  6.37756432e-01,  6.07394476e-01,\n",
       "        5.63494423e-01,  4.92616536e-01,  2.89131108e-01,  7.17101286e-01,\n",
       "        1.67491186e-01,  3.47978644e-01,  8.32876402e-01,  4.49368919e-01,\n",
       "       -1.83411119e-01,  6.50791066e-01,  3.19594888e-01,  4.01649714e-01,\n",
       "        4.63749332e-01,  8.20020294e-01,  6.90764666e-01,  4.65061269e-01,\n",
       "        4.70750652e-01,  4.68063139e-01,  5.40337669e-01,  3.98007943e-01,\n",
       "        4.39503118e-01,  3.35903663e-01,  7.34774984e-01,  9.89520413e-01,\n",
       "        3.65841508e-01,  7.11546072e-01,  1.39920101e-01,  4.97845242e-01,\n",
       "        4.57264763e-01,  3.78971582e-01,  2.90125752e-01,  6.07767646e-01,\n",
       "        1.75508384e-01,  6.35610985e-02,  7.55164666e-01,  3.72604672e-01,\n",
       "        6.91247892e-01,  6.26828093e-01,  7.40665139e-01,  4.83657938e-01,\n",
       "        8.11110725e-01,  6.16941086e-01,  4.16140988e-01,  7.58397493e-01,\n",
       "        1.43730843e-01,  6.22465998e-01,  3.03133733e-01,  3.34983526e-01,\n",
       "        4.10871400e-01,  4.53122479e-01,  5.96369294e-01,  5.67554977e-01,\n",
       "        2.08345871e-01,  5.02429398e-01,  6.42902189e-01,  2.85992828e-01,\n",
       "        5.47338217e-01,  1.65311693e-01,  1.82768501e-01,  4.11541292e-01,\n",
       "        5.61253913e-01,  4.57988572e-01,  5.41404382e-01,  6.22544040e-01,\n",
       "        6.21342994e-01,  7.08592659e-01,  4.79671439e-01,  6.89271536e-01,\n",
       "        4.74897191e-01,  1.28361223e-01,  3.46707308e-01,  2.62267330e-01,\n",
       "        5.84723400e-01,  7.00490348e-01,  2.49212839e-01,  5.79004761e-01,\n",
       "        6.14897506e-01,  5.91916219e-01,  1.35941071e-01,  4.87143338e-01,\n",
       "        4.43967726e-01,  3.83378820e-01,  4.64776592e-01,  2.90046547e-01,\n",
       "        1.05537949e-02,  5.42982534e-01,  3.78765425e-01,  2.36795110e-01,\n",
       "        5.22280718e-01,  6.07204768e-01,  3.84444019e-01,  5.77382092e-01,\n",
       "        6.01134332e-01,  4.17569912e-01,  5.75782321e-01,  4.85251672e-01,\n",
       "        7.02847358e-01,  6.83934336e-01,  6.78503542e-01,  5.84349337e-01,\n",
       "        5.84905835e-01,  5.72513882e-01,  4.14090994e-01,  3.55286813e-01,\n",
       "        6.06462095e-01,  6.83899047e-01,  4.10738223e-01,  7.33848107e-01,\n",
       "        3.00698757e-01,  3.34982469e-01,  4.50126289e-01,  6.03839218e-01,\n",
       "        4.80384268e-01,  2.10427288e-01,  3.24554225e-01,  6.79797175e-01,\n",
       "        4.11066793e-01,  2.71459287e-01,  4.10493906e-01,  4.31410455e-01,\n",
       "        4.58879431e-01,  4.28155770e-01,  4.98186518e-01,  7.14228617e-01,\n",
       "        2.52344097e-01,  5.99823246e-01,  8.34725046e-01,  5.29947209e-01,\n",
       "        8.73995481e-01,  3.62790813e-01,  3.09771991e-01,  2.70008790e-01,\n",
       "        6.73762624e-01,  5.70158073e-01,  4.53741531e-01,  8.28598688e-01,\n",
       "        3.01083064e-01,  4.71732152e-01,  7.08153755e-01,  8.49334135e-01,\n",
       "        8.19102028e-01,  9.41092536e-02,  1.12824316e-01,  4.60358158e-01,\n",
       "        4.83394762e-01,  1.80512458e-01,  4.18050930e-01,  2.93156206e-01,\n",
       "        7.74661326e-01,  4.57255382e-01,  7.38666406e-01,  5.89280900e-01,\n",
       "        5.73786371e-01,  8.28787821e-01,  6.88382421e-01,  5.09776161e-01,\n",
       "        5.27893958e-01,  5.54805965e-01,  7.19992736e-01,  3.45716030e-01,\n",
       "        3.23483822e-01,  3.64631311e-01,  2.84724314e-01,  5.68863569e-01,\n",
       "        5.27201413e-01,  5.96387487e-01,  3.86130907e-01,  5.92536281e-01,\n",
       "        6.69376875e-01,  6.26524987e-01,  1.62906501e-01,  4.49058717e-01,\n",
       "        4.04687789e-01,  8.65164892e-01,  5.05217678e-01,  3.75990495e-01,\n",
       "        1.04010181e+00,  3.60343710e-01,  1.80321634e-02,  6.68488749e-01,\n",
       "        5.66607443e-01,  7.05739513e-01,  4.38860253e-01,  4.15558266e-01,\n",
       "        5.92792638e-01,  7.26699676e-01,  7.99360207e-01,  7.95864747e-01,\n",
       "        6.47120755e-01,  3.84373481e-01,  8.74703302e-01,  4.55303534e-01,\n",
       "        4.09213378e-01,  6.30718163e-01,  4.99619359e-01,  5.87323421e-01,\n",
       "        6.28270219e-01,  6.09507592e-01,  3.39708962e-01,  6.55824653e-01,\n",
       "        3.95171021e-01,  6.00706619e-01,  3.94513207e-01,  4.43112355e-01,\n",
       "        8.70768979e-01,  4.51257637e-01,  5.46017666e-01,  7.88833900e-01,\n",
       "        8.62394220e-01,  5.58744692e-01,  7.72239139e-01,  5.71539157e-01,\n",
       "        3.06074603e-01,  6.78005171e-01,  4.69467124e-01,  2.80763119e-01,\n",
       "        6.81613864e-01,  4.83040078e-01,  4.91754157e-01,  5.06955747e-01,\n",
       "        2.13462573e-01,  5.43614313e-02,  4.68468413e-01,  5.34624150e-01,\n",
       "        5.42300663e-01,  6.55058909e-01,  4.17549449e-01,  4.84732893e-01,\n",
       "        6.45142478e-01,  4.23550351e-01,  6.69149216e-01,  1.60033746e-01,\n",
       "        2.85695176e-01,  4.43848002e-01,  6.37501711e-01,  1.35627132e-01,\n",
       "        1.11099155e-01,  5.26488321e-01,  5.50537528e-01,  1.83964879e-01,\n",
       "        4.44629341e-01,  7.29791016e-01,  6.43151929e-01,  5.36521189e-01,\n",
       "        4.05193748e-01,  9.13642507e-01,  7.54527735e-01,  5.26377355e-01,\n",
       "        5.08744300e-01,  2.50370996e-01,  3.07800451e-01,  4.25470953e-01,\n",
       "        3.96257114e-01,  5.05349749e-01,  3.92819534e-01,  3.61702761e-01,\n",
       "        5.42130836e-01,  4.27860726e-01,  3.55460064e-01,  3.96124409e-01,\n",
       "        3.45069926e-01,  4.10474615e-01,  4.28295578e-01,  3.88674594e-01,\n",
       "        1.58086464e-01,  5.09011631e-01,  3.12926115e-01,  5.08921488e-01,\n",
       "       -5.29493446e-02,  3.76744536e-01,  6.65396285e-01,  3.63344465e-01,\n",
       "        6.43559994e-01,  3.56183344e-01,  6.49721963e-01,  5.37417540e-01,\n",
       "        3.77673846e-01,  3.22281229e-01,  9.16172659e-01,  7.56351074e-01,\n",
       "        1.58820869e-01,  2.12657657e-01,  6.96514222e-01,  8.61870289e-01,\n",
       "        5.15608978e-01,  5.01251763e-01,  5.74192321e-01,  6.17993347e-01,\n",
       "        5.98552572e-01,  6.22174615e-01,  6.14852245e-01,  2.49242784e-01,\n",
       "        6.67114240e-01,  7.21881299e-01,  2.84710751e-01,  4.87738901e-01,\n",
       "        6.59622388e-01,  1.65909205e-01,  6.49950441e-01,  1.24115670e-01,\n",
       "        3.85009295e-01,  3.84871883e-01,  2.18714388e-01,  7.27121630e-01,\n",
       "        2.32820483e-01,  5.74872847e-01,  4.36781400e-01,  4.96321964e-01,\n",
       "        2.26840207e-01,  4.90626594e-01,  3.26103270e-01,  4.49209815e-01,\n",
       "        3.65831512e-01,  3.86898117e-01,  5.24085116e-01,  7.02043305e-01,\n",
       "        7.20184342e-01,  5.92891683e-01,  3.56709267e-01,  6.05780950e-01,\n",
       "        5.13982335e-01,  2.40665459e-01,  3.50402808e-01,  5.26627257e-01,\n",
       "        7.14309432e-01,  1.17569690e-01,  4.13229388e-01,  4.44798484e-01,\n",
       "        6.52405466e-01,  4.65490254e-01,  2.82670902e-01,  7.15294647e-01,\n",
       "        2.29081292e-01,  5.48743082e-01,  4.72048861e-01,  1.15094029e-01,\n",
       "        2.76377746e-01,  5.64535344e-01,  5.79620276e-01,  5.09810741e-01,\n",
       "        4.36176956e-01,  4.69160502e-01,  5.44106482e-01,  3.80328936e-01,\n",
       "        8.00583434e-01,  3.58140878e-01,  6.51302719e-01,  2.52907246e-01,\n",
       "        5.25348197e-01,  6.42149432e-01,  7.91920236e-01,  5.06467543e-01,\n",
       "        2.95264961e-01,  4.79257744e-01,  7.14015392e-01,  5.57131168e-01,\n",
       "        7.80227177e-01,  5.08423563e-01,  7.78320839e-01,  3.91931049e-01,\n",
       "        7.94711505e-01,  6.14940705e-01,  3.64899267e-01,  7.41734713e-01,\n",
       "        5.81533225e-01,  6.22694749e-01,  4.38668817e-01,  3.81005335e-01,\n",
       "        5.52819994e-01,  1.81587354e-01,  6.51621771e-01,  6.99300346e-01,\n",
       "        6.86708225e-01,  2.62571280e-01,  7.18602370e-01,  2.94606267e-01,\n",
       "        9.76039792e-01,  5.05631145e-01,  8.25090078e-01,  5.03950413e-01])"
      ]
     },
     "execution_count": 35,
     "metadata": {},
     "output_type": "execute_result"
    }
   ],
   "source": [
    "s"
   ]
  },
  {
   "cell_type": "code",
   "execution_count": 36,
   "id": "64461fe0",
   "metadata": {},
   "outputs": [
    {
     "data": {
      "text/plain": [
       "<AxesSubplot:ylabel='Count'>"
      ]
     },
     "execution_count": 36,
     "metadata": {},
     "output_type": "execute_result"
    },
    {
     "data": {
      "image/png": "[encoded data removed]",
      "text/plain": [
       "<Figure size 432x288 with 1 Axes>"
      ]
     },
     "metadata": {
      "needs_background": "light"
     },
     "output_type": "display_data"
    }
   ],
   "source": [
    "sns.histplot(s,kde=True)"
   ]
  },
  {
   "cell_type": "code",
   "execution_count": 37,
   "id": "ebfece89",
   "metadata": {},
   "outputs": [
    {
     "data": {
      "text/plain": [
       "array([ 12.03445528,   9.91717387,   5.45115755,  47.23982692,\n",
       "       115.25622352,   7.7082329 ,   9.62423351,  10.37331885,\n",
       "        19.44397162,  31.69298509,  36.38744023,  65.11722515,\n",
       "        27.83547359,  19.64646224,  55.31658669,   8.04058886,\n",
       "        29.67742723,  12.6495483 ,   9.93604384,   4.68815146,\n",
       "        33.58495251,   4.3637369 ,  15.25647679,  27.12277777,\n",
       "        32.02663316,  35.4819978 ,  43.01358462,  11.33137958,\n",
       "        22.65781457,  14.32053923,  14.08963733,  15.8297878 ,\n",
       "         5.03747327, 223.94415527,  17.81586944,  35.7596806 ,\n",
       "        35.3041471 ,   8.37041688,  31.91839241,   5.59229727,\n",
       "         4.29518788,  14.51321642,  11.54352317,   9.23393185,\n",
       "        21.48720195,  12.81830438,  34.80410685,   8.10505476,\n",
       "        28.21354682,  38.11658863,   6.58609321,  41.87204968,\n",
       "        57.81232503,   7.03267173,  46.90197851,  14.18293049,\n",
       "        31.86404313,  26.45130571,  10.28302293,  36.56664107,\n",
       "        57.93676213,   3.41593521,   9.63713167,  24.34173829,\n",
       "        10.10127102,   3.88723606,  10.14989656,  33.25129181,\n",
       "        31.18403771,  45.4106467 ,   7.6146495 ,  23.30641403,\n",
       "         6.10722689,   7.04178468,   5.1868865 , 133.15304585,\n",
       "        25.93761699,  13.45331495,  29.69608085,  33.46407844,\n",
       "        72.15330451,  57.30133558,  46.50172129,  26.29830904,\n",
       "       154.27757089,  55.34868282,  43.05616144,   4.35087138,\n",
       "         5.36384168,  35.09511576,  16.69439156,  62.2972015 ,\n",
       "        24.21901043,  12.07024086,  70.99327471,  10.64385475,\n",
       "        21.65418673,  19.94449267,  38.63235999,   9.35710051])"
      ]
     },
     "execution_count": 37,
     "metadata": {},
     "output_type": "execute_result"
    }
   ],
   "source": [
    "mean=3.\n",
    "std=1.\n",
    "s=np.random.lognormal(mean,std,100)\n",
    "s"
   ]
  },
  {
   "cell_type": "code",
   "execution_count": 38,
   "id": "1f4d291f",
   "metadata": {},
   "outputs": [
    {
     "data": {
      "text/plain": [
       "<AxesSubplot:ylabel='Count'>"
      ]
     },
     "execution_count": 38,
     "metadata": {},
     "output_type": "execute_result"
    },
    {
     "data": {
      "image/png": "[encoded data removed]",
      "text/plain": [
       "<Figure size 432x288 with 1 Axes>"
      ]
     },
     "metadata": {
      "needs_background": "light"
     },
     "output_type": "display_data"
    }
   ],
   "source": [
    "sns.histplot(s,kde=True)"
   ]
  },
  {
   "cell_type": "code",
   "execution_count": 39,
   "id": "97f2dbfd",
   "metadata": {},
   "outputs": [
    {
     "data": {
      "text/plain": [
       "<AxesSubplot:ylabel='Count'>"
      ]
     },
     "execution_count": 39,
     "metadata": {},
     "output_type": "execute_result"
    },
    {
     "data": {
      "image/png": "[encoded data removed]",
      "text/plain": [
       "<Figure size 432x288 with 1 Axes>"
      ]
     },
     "metadata": {
      "needs_background": "light"
     },
     "output_type": "display_data"
    }
   ],
   "source": [
    "sns.histplot(np.log(s),kde=True)"
   ]
  },
  {
   "cell_type": "code",
   "execution_count": 41,
   "id": "6d0226a8",
   "metadata": {},
   "outputs": [],
   "source": [
    "#check normal distribution or not\n",
    "import matplotlib.pyplot as plt\n",
    "import scipy.stats as stat\n",
    "import pylab\n",
    "\n",
    "def plot_data(sample):\n",
    "    plt.figure(figsize=(10,6))\n",
    "    plt.subplot(1,2,1)\n",
    "    sns.histplot(sample)\n",
    "    plt.subplot(1,2,2)\n",
    "    stat.probplot(sample,dist='norm',plot=pylab)\n",
    "    plt.show()"
   ]
  },
  {
   "cell_type": "code",
   "execution_count": 42,
   "id": "cd256066",
   "metadata": {},
   "outputs": [
    {
     "data": {
      "image/png": "[encoded data removed]",
      "text/plain": [
       "<Figure size 720x432 with 2 Axes>"
      ]
     },
     "metadata": {
      "needs_background": "light"
     },
     "output_type": "display_data"
    }
   ],
   "source": [
    "s=np.random.normal(0.5,0.2,1000)\n",
    "plot_data(s)"
   ]
  },
  {
   "cell_type": "code",
   "execution_count": 43,
   "id": "da22838b",
   "metadata": {},
   "outputs": [
    {
     "data": {
      "image/png": "[encoded data removed]",
      "text/plain": [
       "<Figure size 720x432 with 2 Axes>"
      ]
     },
     "metadata": {
      "needs_background": "light"
     },
     "output_type": "display_data"
    }
   ],
   "source": [
    "plot_data(df['sepal_length'])"
   ]
  },
  {
   "cell_type": "code",
   "execution_count": 44,
   "id": "cb414a10",
   "metadata": {},
   "outputs": [],
   "source": [
    "#check lognormal distribution or not\n",
    "def plot_data(sample):\n",
    "    plt.figure(figsize=(10,6))\n",
    "    plt.subplot(1,2,1)\n",
    "    sns.histplot(sample)\n",
    "    plt.subplot(1,2,2)\n",
    "    stat.probplot(np.log(sample),dist='norm',plot=pylab)\n",
    "    plt.show()"
   ]
  },
  {
   "cell_type": "code",
   "execution_count": 45,
   "id": "a5354bc3",
   "metadata": {},
   "outputs": [
    {
     "data": {
      "text/plain": [
       "array([ 10.2657319 ,  42.18949223,  21.70836352,  27.20169472,\n",
       "         4.62578009,  45.84652073,  23.09367196,   9.27687113,\n",
       "        51.53587951,  20.46845127,   3.17146255,  13.38328028,\n",
       "        28.27562588,  19.79244544,  16.99451475,  64.1972922 ,\n",
       "        19.49089447,  28.40936473,   8.79840337,  25.29464659,\n",
       "        23.32298556, 109.26426957,  45.28781659,   4.58953282,\n",
       "        11.68908047,   4.66593127,   6.80587782,  14.78382052,\n",
       "       256.96766033,   8.27746362,  68.0286527 ,  86.08537263,\n",
       "        73.10492818,   2.27068515, 117.56177027,  41.86727049,\n",
       "        34.96470729,  86.18809824,  16.99807221,  17.85002363,\n",
       "        27.13851006,   5.45950906,  29.44106117,   6.56680515,\n",
       "        45.60891688,  25.26896499,   8.39981465,   6.56441111,\n",
       "         9.5917584 ,   6.53490644, 134.42484321, 131.98622205,\n",
       "        16.97048936,  34.02051741,  10.85386951,   7.10132728,\n",
       "        12.64912016,  10.6074761 ,   8.04642101, 141.68141979,\n",
       "        95.64517478,  26.43890024,   4.11796407,  32.47335894,\n",
       "        33.21176413,  14.74795819,   8.35343273,  86.59941562,\n",
       "        73.21454294,  11.00013617,  90.68011619,  12.13880549,\n",
       "         8.83450758,   8.38352233,  21.36065027,   3.1174161 ,\n",
       "         6.4125597 ,   6.87667766,  15.75089486,  23.3882455 ,\n",
       "        24.39495891,  46.34805289,  43.90995653,  24.52511724,\n",
       "         4.44697948,   5.31673756,  19.35310728,   4.34580535,\n",
       "        13.92060827, 125.68526204,   7.59536059,  11.19770237,\n",
       "        13.02079017,  37.09096093,  27.1788603 ,  33.67229766,\n",
       "        40.08767656,   9.16082939,  23.39397333,   5.59034704])"
      ]
     },
     "execution_count": 45,
     "metadata": {},
     "output_type": "execute_result"
    }
   ],
   "source": [
    "mean=3.\n",
    "std=1.\n",
    "sample=np.random.lognormal(mean,std,100)\n",
    "sample"
   ]
  },
  {
   "cell_type": "code",
   "execution_count": 50,
   "id": "7031364c",
   "metadata": {},
   "outputs": [
    {
     "data": {
      "text/plain": [
       "<seaborn.axisgrid.PairGrid at 0x1453c1ad220>"
      ]
     },
     "execution_count": 50,
     "metadata": {},
     "output_type": "execute_result"
    },
    {
     "data": {
      "image/png": "[encoded data removed]",
      "text/plain": [
       "<Figure size 720x720 with 20 Axes>"
      ]
     },
     "metadata": {
      "needs_background": "light"
     },
     "output_type": "display_data"
    }
   ],
   "source": [
    "sns.pairplot(df)"
   ]
  },
  {
   "cell_type": "code",
   "execution_count": 52,
   "id": "bd4414b7",
   "metadata": {},
   "outputs": [
    {
     "data": {
      "text/plain": [
       "<function seaborn.axisgrid.pairplot(data, *, hue=None, hue_order=None, palette=None, vars=None, x_vars=None, y_vars=None, kind='scatter', diag_kind='auto', markers=None, height=2.5, aspect=1, corner=False, dropna=False, plot_kws=None, diag_kws=None, grid_kws=None, size=None)>"
      ]
     },
     "execution_count": 52,
     "metadata": {},
     "output_type": "execute_result"
    }
   ],
   "source": [
    "sns.pairplot"
   ]
  },
  {
   "cell_type": "code",
   "execution_count": null,
   "id": "5141cdea",
   "metadata": {},
   "outputs": [],
   "source": []
  }
 ],
 "metadata": {
  "kernelspec": {
   "display_name": "Python 3 (ipykernel)",
   "language": "python",
   "name": "python3"
  },
  "language_info": {
   "codemirror_mode": {
    "name": "ipython",
    "version": 3
   },
   "file_extension": ".py",
   "mimetype": "text/x-python",
   "name": "python",
   "nbconvert_exporter": "python",
   "pygments_lexer": "ipython3",
   "version": "3.9.7"
  }
 },
 "nbformat": 4,
 "nbformat_minor": 5
}
